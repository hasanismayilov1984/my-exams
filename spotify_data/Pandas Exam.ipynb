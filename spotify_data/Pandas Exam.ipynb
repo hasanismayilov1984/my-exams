{
 "cells": [
  {
   "cell_type": "code",
   "execution_count": 6,
   "metadata": {},
   "outputs": [
    {
     "data": {
      "text/plain": [
       "['Spotify_2024_Global_Streaming_Data.csv', 'Pandas Exam.ipynb']"
      ]
     },
     "execution_count": 6,
     "metadata": {},
     "output_type": "execute_result"
    }
   ],
   "source": [
    "import os\n",
    "os.getcwd()\n",
    "os.listdir('.')\n"
   ]
  },
  {
   "cell_type": "markdown",
   "metadata": {},
   "source": [
    "🧠 Question 1:\n",
    "Load the dataset into a pandas DataFrame named df and display the first 5 rows.\n",
    "Make sure your output shows the column names and sample rows."
   ]
  },
  {
   "cell_type": "code",
   "execution_count": 7,
   "metadata": {},
   "outputs": [
    {
     "data": {
      "text/html": [
       "<div>\n",
       "<style scoped>\n",
       "    .dataframe tbody tr th:only-of-type {\n",
       "        vertical-align: middle;\n",
       "    }\n",
       "\n",
       "    .dataframe tbody tr th {\n",
       "        vertical-align: top;\n",
       "    }\n",
       "\n",
       "    .dataframe thead th {\n",
       "        text-align: right;\n",
       "    }\n",
       "</style>\n",
       "<table border=\"1\" class=\"dataframe\">\n",
       "  <thead>\n",
       "    <tr style=\"text-align: right;\">\n",
       "      <th></th>\n",
       "      <th>Country</th>\n",
       "      <th>Artist</th>\n",
       "      <th>Album</th>\n",
       "      <th>Genre</th>\n",
       "      <th>Release Year</th>\n",
       "      <th>Monthly Listeners (Millions)</th>\n",
       "      <th>Total Streams (Millions)</th>\n",
       "      <th>Total Hours Streamed (Millions)</th>\n",
       "      <th>Avg Stream Duration (Min)</th>\n",
       "      <th>Platform Type</th>\n",
       "      <th>Streams Last 30 Days (Millions)</th>\n",
       "      <th>Skip Rate (%)</th>\n",
       "    </tr>\n",
       "  </thead>\n",
       "  <tbody>\n",
       "    <tr>\n",
       "      <th>0</th>\n",
       "      <td>Germany</td>\n",
       "      <td>Taylor Swift</td>\n",
       "      <td>1989 (Taylor's Version)</td>\n",
       "      <td>K-pop</td>\n",
       "      <td>2019</td>\n",
       "      <td>23.10</td>\n",
       "      <td>3695.53</td>\n",
       "      <td>14240.35</td>\n",
       "      <td>4.28</td>\n",
       "      <td>Free</td>\n",
       "      <td>118.51</td>\n",
       "      <td>2.24</td>\n",
       "    </tr>\n",
       "    <tr>\n",
       "      <th>1</th>\n",
       "      <td>Brazil</td>\n",
       "      <td>The Weeknd</td>\n",
       "      <td>After Hours</td>\n",
       "      <td>R&amp;B</td>\n",
       "      <td>2022</td>\n",
       "      <td>60.60</td>\n",
       "      <td>2828.16</td>\n",
       "      <td>11120.44</td>\n",
       "      <td>3.90</td>\n",
       "      <td>Premium</td>\n",
       "      <td>44.87</td>\n",
       "      <td>23.98</td>\n",
       "    </tr>\n",
       "    <tr>\n",
       "      <th>2</th>\n",
       "      <td>United States</td>\n",
       "      <td>Post Malone</td>\n",
       "      <td>Austin</td>\n",
       "      <td>Reggaeton</td>\n",
       "      <td>2023</td>\n",
       "      <td>42.84</td>\n",
       "      <td>1425.46</td>\n",
       "      <td>4177.49</td>\n",
       "      <td>4.03</td>\n",
       "      <td>Free</td>\n",
       "      <td>19.46</td>\n",
       "      <td>4.77</td>\n",
       "    </tr>\n",
       "    <tr>\n",
       "      <th>3</th>\n",
       "      <td>Italy</td>\n",
       "      <td>Ed Sheeran</td>\n",
       "      <td>Autumn Variations</td>\n",
       "      <td>K-pop</td>\n",
       "      <td>2018</td>\n",
       "      <td>73.24</td>\n",
       "      <td>2704.33</td>\n",
       "      <td>12024.08</td>\n",
       "      <td>3.26</td>\n",
       "      <td>Premium</td>\n",
       "      <td>166.05</td>\n",
       "      <td>25.12</td>\n",
       "    </tr>\n",
       "    <tr>\n",
       "      <th>4</th>\n",
       "      <td>Italy</td>\n",
       "      <td>Ed Sheeran</td>\n",
       "      <td>Autumn Variations</td>\n",
       "      <td>R&amp;B</td>\n",
       "      <td>2023</td>\n",
       "      <td>7.89</td>\n",
       "      <td>3323.25</td>\n",
       "      <td>13446.32</td>\n",
       "      <td>4.47</td>\n",
       "      <td>Free</td>\n",
       "      <td>173.43</td>\n",
       "      <td>15.82</td>\n",
       "    </tr>\n",
       "  </tbody>\n",
       "</table>\n",
       "</div>"
      ],
      "text/plain": [
       "         Country        Artist                    Album      Genre  \\\n",
       "0        Germany  Taylor Swift  1989 (Taylor's Version)      K-pop   \n",
       "1         Brazil    The Weeknd              After Hours        R&B   \n",
       "2  United States   Post Malone                   Austin  Reggaeton   \n",
       "3          Italy    Ed Sheeran        Autumn Variations      K-pop   \n",
       "4          Italy    Ed Sheeran        Autumn Variations        R&B   \n",
       "\n",
       "   Release Year  Monthly Listeners (Millions)  Total Streams (Millions)  \\\n",
       "0          2019                         23.10                   3695.53   \n",
       "1          2022                         60.60                   2828.16   \n",
       "2          2023                         42.84                   1425.46   \n",
       "3          2018                         73.24                   2704.33   \n",
       "4          2023                          7.89                   3323.25   \n",
       "\n",
       "   Total Hours Streamed (Millions)  Avg Stream Duration (Min) Platform Type  \\\n",
       "0                         14240.35                       4.28          Free   \n",
       "1                         11120.44                       3.90       Premium   \n",
       "2                          4177.49                       4.03          Free   \n",
       "3                         12024.08                       3.26       Premium   \n",
       "4                         13446.32                       4.47          Free   \n",
       "\n",
       "   Streams Last 30 Days (Millions)  Skip Rate (%)  \n",
       "0                           118.51           2.24  \n",
       "1                            44.87          23.98  \n",
       "2                            19.46           4.77  \n",
       "3                           166.05          25.12  \n",
       "4                           173.43          15.82  "
      ]
     },
     "execution_count": 7,
     "metadata": {},
     "output_type": "execute_result"
    }
   ],
   "source": [
    "import pandas as pd\n",
    "df = pd.read_csv('Spotify_2024_Global_Streaming_Data.csv')\n",
    "df.head()"
   ]
  },
  {
   "cell_type": "markdown",
   "metadata": {},
   "source": [
    "🔢 Let’s move on.\n",
    "Question 2:\n",
    "How many rows and columns are in the dataset?"
   ]
  },
  {
   "cell_type": "code",
   "execution_count": 8,
   "metadata": {},
   "outputs": [
    {
     "data": {
      "text/plain": [
       "(500, 12)"
      ]
     },
     "execution_count": 8,
     "metadata": {},
     "output_type": "execute_result"
    }
   ],
   "source": [
    "df.shape"
   ]
  },
  {
   "cell_type": "markdown",
   "metadata": {},
   "source": [
    "🔍 Question 3:\n",
    "What are the column names in the dataset?"
   ]
  },
  {
   "cell_type": "code",
   "execution_count": 9,
   "metadata": {},
   "outputs": [
    {
     "data": {
      "text/plain": [
       "Index(['Country', 'Artist', 'Album', 'Genre', 'Release Year',\n",
       "       'Monthly Listeners (Millions)', 'Total Streams (Millions)',\n",
       "       'Total Hours Streamed (Millions)', 'Avg Stream Duration (Min)',\n",
       "       'Platform Type', 'Streams Last 30 Days (Millions)', 'Skip Rate (%)'],\n",
       "      dtype='object')"
      ]
     },
     "execution_count": 9,
     "metadata": {},
     "output_type": "execute_result"
    }
   ],
   "source": [
    "df.columns"
   ]
  },
  {
   "cell_type": "markdown",
   "metadata": {},
   "source": [
    "🧠 Question 4:\n",
    "What are the data types of each column?"
   ]
  },
  {
   "cell_type": "code",
   "execution_count": 10,
   "metadata": {},
   "outputs": [
    {
     "data": {
      "text/plain": [
       "Country                             object\n",
       "Artist                              object\n",
       "Album                               object\n",
       "Genre                               object\n",
       "Release Year                         int64\n",
       "Monthly Listeners (Millions)       float64\n",
       "Total Streams (Millions)           float64\n",
       "Total Hours Streamed (Millions)    float64\n",
       "Avg Stream Duration (Min)          float64\n",
       "Platform Type                       object\n",
       "Streams Last 30 Days (Millions)    float64\n",
       "Skip Rate (%)                      float64\n",
       "dtype: object"
      ]
     },
     "execution_count": 10,
     "metadata": {},
     "output_type": "execute_result"
    }
   ],
   "source": [
    "df.dtypes"
   ]
  },
  {
   "cell_type": "markdown",
   "metadata": {},
   "source": [
    "🧪 Question 5:\n",
    "Are there any missing values in the dataset?"
   ]
  },
  {
   "cell_type": "code",
   "execution_count": 11,
   "metadata": {},
   "outputs": [
    {
     "data": {
      "text/plain": [
       "Country                            0\n",
       "Artist                             0\n",
       "Album                              0\n",
       "Genre                              0\n",
       "Release Year                       0\n",
       "Monthly Listeners (Millions)       0\n",
       "Total Streams (Millions)           0\n",
       "Total Hours Streamed (Millions)    0\n",
       "Avg Stream Duration (Min)          0\n",
       "Platform Type                      0\n",
       "Streams Last 30 Days (Millions)    0\n",
       "Skip Rate (%)                      0\n",
       "dtype: int64"
      ]
     },
     "execution_count": 11,
     "metadata": {},
     "output_type": "execute_result"
    }
   ],
   "source": [
    "df.isnull().sum()"
   ]
  },
  {
   "cell_type": "markdown",
   "metadata": {},
   "source": [
    "🧠 Question 6:\n",
    "Display the basic statistical summary of the dataset."
   ]
  },
  {
   "cell_type": "code",
   "execution_count": 12,
   "metadata": {},
   "outputs": [
    {
     "data": {
      "text/html": [
       "<div>\n",
       "<style scoped>\n",
       "    .dataframe tbody tr th:only-of-type {\n",
       "        vertical-align: middle;\n",
       "    }\n",
       "\n",
       "    .dataframe tbody tr th {\n",
       "        vertical-align: top;\n",
       "    }\n",
       "\n",
       "    .dataframe thead th {\n",
       "        text-align: right;\n",
       "    }\n",
       "</style>\n",
       "<table border=\"1\" class=\"dataframe\">\n",
       "  <thead>\n",
       "    <tr style=\"text-align: right;\">\n",
       "      <th></th>\n",
       "      <th>Release Year</th>\n",
       "      <th>Monthly Listeners (Millions)</th>\n",
       "      <th>Total Streams (Millions)</th>\n",
       "      <th>Total Hours Streamed (Millions)</th>\n",
       "      <th>Avg Stream Duration (Min)</th>\n",
       "      <th>Streams Last 30 Days (Millions)</th>\n",
       "      <th>Skip Rate (%)</th>\n",
       "    </tr>\n",
       "  </thead>\n",
       "  <tbody>\n",
       "    <tr>\n",
       "      <th>count</th>\n",
       "      <td>500.000000</td>\n",
       "      <td>500.00000</td>\n",
       "      <td>500.000000</td>\n",
       "      <td>500.000000</td>\n",
       "      <td>500.000000</td>\n",
       "      <td>500.000000</td>\n",
       "      <td>500.000000</td>\n",
       "    </tr>\n",
       "    <tr>\n",
       "      <th>mean</th>\n",
       "      <td>2020.488000</td>\n",
       "      <td>51.04122</td>\n",
       "      <td>2581.154080</td>\n",
       "      <td>8954.368880</td>\n",
       "      <td>3.520640</td>\n",
       "      <td>99.048500</td>\n",
       "      <td>20.370460</td>\n",
       "    </tr>\n",
       "    <tr>\n",
       "      <th>std</th>\n",
       "      <td>1.671959</td>\n",
       "      <td>28.23801</td>\n",
       "      <td>1416.055972</td>\n",
       "      <td>5167.648272</td>\n",
       "      <td>0.571431</td>\n",
       "      <td>57.533452</td>\n",
       "      <td>10.597202</td>\n",
       "    </tr>\n",
       "    <tr>\n",
       "      <th>min</th>\n",
       "      <td>2018.000000</td>\n",
       "      <td>1.01000</td>\n",
       "      <td>53.560000</td>\n",
       "      <td>184.300000</td>\n",
       "      <td>2.510000</td>\n",
       "      <td>2.850000</td>\n",
       "      <td>1.160000</td>\n",
       "    </tr>\n",
       "    <tr>\n",
       "      <th>25%</th>\n",
       "      <td>2019.000000</td>\n",
       "      <td>27.67250</td>\n",
       "      <td>1337.337500</td>\n",
       "      <td>4322.097500</td>\n",
       "      <td>3.030000</td>\n",
       "      <td>48.057500</td>\n",
       "      <td>11.152500</td>\n",
       "    </tr>\n",
       "    <tr>\n",
       "      <th>50%</th>\n",
       "      <td>2020.000000</td>\n",
       "      <td>50.82500</td>\n",
       "      <td>2697.355000</td>\n",
       "      <td>9053.665000</td>\n",
       "      <td>3.540000</td>\n",
       "      <td>101.465000</td>\n",
       "      <td>20.820000</td>\n",
       "    </tr>\n",
       "    <tr>\n",
       "      <th>75%</th>\n",
       "      <td>2022.000000</td>\n",
       "      <td>75.09500</td>\n",
       "      <td>3798.197500</td>\n",
       "      <td>12690.180000</td>\n",
       "      <td>4.000000</td>\n",
       "      <td>148.410000</td>\n",
       "      <td>28.760000</td>\n",
       "    </tr>\n",
       "    <tr>\n",
       "      <th>max</th>\n",
       "      <td>2023.000000</td>\n",
       "      <td>99.80000</td>\n",
       "      <td>4985.540000</td>\n",
       "      <td>21874.920000</td>\n",
       "      <td>4.490000</td>\n",
       "      <td>200.000000</td>\n",
       "      <td>39.970000</td>\n",
       "    </tr>\n",
       "  </tbody>\n",
       "</table>\n",
       "</div>"
      ],
      "text/plain": [
       "       Release Year  Monthly Listeners (Millions)  Total Streams (Millions)  \\\n",
       "count    500.000000                     500.00000                500.000000   \n",
       "mean    2020.488000                      51.04122               2581.154080   \n",
       "std        1.671959                      28.23801               1416.055972   \n",
       "min     2018.000000                       1.01000                 53.560000   \n",
       "25%     2019.000000                      27.67250               1337.337500   \n",
       "50%     2020.000000                      50.82500               2697.355000   \n",
       "75%     2022.000000                      75.09500               3798.197500   \n",
       "max     2023.000000                      99.80000               4985.540000   \n",
       "\n",
       "       Total Hours Streamed (Millions)  Avg Stream Duration (Min)  \\\n",
       "count                       500.000000                 500.000000   \n",
       "mean                       8954.368880                   3.520640   \n",
       "std                        5167.648272                   0.571431   \n",
       "min                         184.300000                   2.510000   \n",
       "25%                        4322.097500                   3.030000   \n",
       "50%                        9053.665000                   3.540000   \n",
       "75%                       12690.180000                   4.000000   \n",
       "max                       21874.920000                   4.490000   \n",
       "\n",
       "       Streams Last 30 Days (Millions)  Skip Rate (%)  \n",
       "count                       500.000000     500.000000  \n",
       "mean                         99.048500      20.370460  \n",
       "std                          57.533452      10.597202  \n",
       "min                           2.850000       1.160000  \n",
       "25%                          48.057500      11.152500  \n",
       "50%                         101.465000      20.820000  \n",
       "75%                         148.410000      28.760000  \n",
       "max                         200.000000      39.970000  "
      ]
     },
     "execution_count": 12,
     "metadata": {},
     "output_type": "execute_result"
    }
   ],
   "source": [
    "df.describe()"
   ]
  },
  {
   "cell_type": "markdown",
   "metadata": {},
   "source": [
    "🔽 Question 7:\n",
    "Sort the dataset by the most streamed songs — from highest to lowest.\n",
    "(No hints 😏)"
   ]
  },
  {
   "cell_type": "code",
   "execution_count": 13,
   "metadata": {},
   "outputs": [
    {
     "data": {
      "text/html": [
       "<div>\n",
       "<style scoped>\n",
       "    .dataframe tbody tr th:only-of-type {\n",
       "        vertical-align: middle;\n",
       "    }\n",
       "\n",
       "    .dataframe tbody tr th {\n",
       "        vertical-align: top;\n",
       "    }\n",
       "\n",
       "    .dataframe thead th {\n",
       "        text-align: right;\n",
       "    }\n",
       "</style>\n",
       "<table border=\"1\" class=\"dataframe\">\n",
       "  <thead>\n",
       "    <tr style=\"text-align: right;\">\n",
       "      <th></th>\n",
       "      <th>Country</th>\n",
       "      <th>Artist</th>\n",
       "      <th>Album</th>\n",
       "      <th>Genre</th>\n",
       "      <th>Release Year</th>\n",
       "      <th>Monthly Listeners (Millions)</th>\n",
       "      <th>Total Streams (Millions)</th>\n",
       "      <th>Total Hours Streamed (Millions)</th>\n",
       "      <th>Avg Stream Duration (Min)</th>\n",
       "      <th>Platform Type</th>\n",
       "      <th>Streams Last 30 Days (Millions)</th>\n",
       "      <th>Skip Rate (%)</th>\n",
       "    </tr>\n",
       "  </thead>\n",
       "  <tbody>\n",
       "    <tr>\n",
       "      <th>473</th>\n",
       "      <td>Spain</td>\n",
       "      <td>Billie Eilish</td>\n",
       "      <td>Happier Than Ever</td>\n",
       "      <td>Classical</td>\n",
       "      <td>2019</td>\n",
       "      <td>56.56</td>\n",
       "      <td>4985.54</td>\n",
       "      <td>17691.17</td>\n",
       "      <td>2.98</td>\n",
       "      <td>Premium</td>\n",
       "      <td>155.58</td>\n",
       "      <td>13.61</td>\n",
       "    </tr>\n",
       "    <tr>\n",
       "      <th>294</th>\n",
       "      <td>France</td>\n",
       "      <td>BTS</td>\n",
       "      <td>Proof</td>\n",
       "      <td>Jazz</td>\n",
       "      <td>2023</td>\n",
       "      <td>6.53</td>\n",
       "      <td>4982.14</td>\n",
       "      <td>14641.63</td>\n",
       "      <td>4.19</td>\n",
       "      <td>Premium</td>\n",
       "      <td>71.61</td>\n",
       "      <td>33.73</td>\n",
       "    </tr>\n",
       "    <tr>\n",
       "      <th>156</th>\n",
       "      <td>Germany</td>\n",
       "      <td>BTS</td>\n",
       "      <td>Proof</td>\n",
       "      <td>K-pop</td>\n",
       "      <td>2023</td>\n",
       "      <td>45.18</td>\n",
       "      <td>4982.01</td>\n",
       "      <td>15300.52</td>\n",
       "      <td>4.33</td>\n",
       "      <td>Premium</td>\n",
       "      <td>40.84</td>\n",
       "      <td>6.29</td>\n",
       "    </tr>\n",
       "    <tr>\n",
       "      <th>22</th>\n",
       "      <td>Sweden</td>\n",
       "      <td>BTS</td>\n",
       "      <td>Proof</td>\n",
       "      <td>EDM</td>\n",
       "      <td>2023</td>\n",
       "      <td>95.77</td>\n",
       "      <td>4977.34</td>\n",
       "      <td>17975.85</td>\n",
       "      <td>3.94</td>\n",
       "      <td>Free</td>\n",
       "      <td>38.79</td>\n",
       "      <td>9.49</td>\n",
       "    </tr>\n",
       "    <tr>\n",
       "      <th>251</th>\n",
       "      <td>Sweden</td>\n",
       "      <td>BTS</td>\n",
       "      <td>Proof</td>\n",
       "      <td>Indie</td>\n",
       "      <td>2018</td>\n",
       "      <td>44.47</td>\n",
       "      <td>4970.09</td>\n",
       "      <td>20135.14</td>\n",
       "      <td>2.97</td>\n",
       "      <td>Premium</td>\n",
       "      <td>172.35</td>\n",
       "      <td>24.80</td>\n",
       "    </tr>\n",
       "    <tr>\n",
       "      <th>...</th>\n",
       "      <td>...</td>\n",
       "      <td>...</td>\n",
       "      <td>...</td>\n",
       "      <td>...</td>\n",
       "      <td>...</td>\n",
       "      <td>...</td>\n",
       "      <td>...</td>\n",
       "      <td>...</td>\n",
       "      <td>...</td>\n",
       "      <td>...</td>\n",
       "      <td>...</td>\n",
       "      <td>...</td>\n",
       "    </tr>\n",
       "    <tr>\n",
       "      <th>175</th>\n",
       "      <td>Russia</td>\n",
       "      <td>Karol G</td>\n",
       "      <td>MAÑANA SERÁ BONITO</td>\n",
       "      <td>Classical</td>\n",
       "      <td>2020</td>\n",
       "      <td>48.01</td>\n",
       "      <td>132.35</td>\n",
       "      <td>418.55</td>\n",
       "      <td>2.72</td>\n",
       "      <td>Premium</td>\n",
       "      <td>117.16</td>\n",
       "      <td>32.07</td>\n",
       "    </tr>\n",
       "    <tr>\n",
       "      <th>216</th>\n",
       "      <td>India</td>\n",
       "      <td>Ed Sheeran</td>\n",
       "      <td>Autumn Variations</td>\n",
       "      <td>Classical</td>\n",
       "      <td>2021</td>\n",
       "      <td>66.27</td>\n",
       "      <td>127.87</td>\n",
       "      <td>455.78</td>\n",
       "      <td>3.32</td>\n",
       "      <td>Free</td>\n",
       "      <td>106.35</td>\n",
       "      <td>11.71</td>\n",
       "    </tr>\n",
       "    <tr>\n",
       "      <th>16</th>\n",
       "      <td>United States</td>\n",
       "      <td>Ed Sheeran</td>\n",
       "      <td>Autumn Variations</td>\n",
       "      <td>Jazz</td>\n",
       "      <td>2019</td>\n",
       "      <td>59.26</td>\n",
       "      <td>85.59</td>\n",
       "      <td>335.14</td>\n",
       "      <td>2.62</td>\n",
       "      <td>Free</td>\n",
       "      <td>181.18</td>\n",
       "      <td>34.53</td>\n",
       "    </tr>\n",
       "    <tr>\n",
       "      <th>308</th>\n",
       "      <td>Turkey</td>\n",
       "      <td>Ariana Grande</td>\n",
       "      <td>Eternal Sunshine</td>\n",
       "      <td>Rock</td>\n",
       "      <td>2019</td>\n",
       "      <td>6.40</td>\n",
       "      <td>68.89</td>\n",
       "      <td>184.30</td>\n",
       "      <td>4.15</td>\n",
       "      <td>Premium</td>\n",
       "      <td>40.74</td>\n",
       "      <td>2.00</td>\n",
       "    </tr>\n",
       "    <tr>\n",
       "      <th>454</th>\n",
       "      <td>South Korea</td>\n",
       "      <td>Doja Cat</td>\n",
       "      <td>Scarlet</td>\n",
       "      <td>K-pop</td>\n",
       "      <td>2022</td>\n",
       "      <td>37.34</td>\n",
       "      <td>53.56</td>\n",
       "      <td>202.25</td>\n",
       "      <td>3.26</td>\n",
       "      <td>Free</td>\n",
       "      <td>176.70</td>\n",
       "      <td>25.17</td>\n",
       "    </tr>\n",
       "  </tbody>\n",
       "</table>\n",
       "<p>500 rows × 12 columns</p>\n",
       "</div>"
      ],
      "text/plain": [
       "           Country         Artist               Album      Genre  \\\n",
       "473          Spain  Billie Eilish   Happier Than Ever  Classical   \n",
       "294         France            BTS               Proof       Jazz   \n",
       "156        Germany            BTS               Proof      K-pop   \n",
       "22          Sweden            BTS               Proof        EDM   \n",
       "251         Sweden            BTS               Proof      Indie   \n",
       "..             ...            ...                 ...        ...   \n",
       "175         Russia        Karol G  MAÑANA SERÁ BONITO  Classical   \n",
       "216          India     Ed Sheeran   Autumn Variations  Classical   \n",
       "16   United States     Ed Sheeran   Autumn Variations       Jazz   \n",
       "308         Turkey  Ariana Grande    Eternal Sunshine       Rock   \n",
       "454    South Korea       Doja Cat             Scarlet      K-pop   \n",
       "\n",
       "     Release Year  Monthly Listeners (Millions)  Total Streams (Millions)  \\\n",
       "473          2019                         56.56                   4985.54   \n",
       "294          2023                          6.53                   4982.14   \n",
       "156          2023                         45.18                   4982.01   \n",
       "22           2023                         95.77                   4977.34   \n",
       "251          2018                         44.47                   4970.09   \n",
       "..            ...                           ...                       ...   \n",
       "175          2020                         48.01                    132.35   \n",
       "216          2021                         66.27                    127.87   \n",
       "16           2019                         59.26                     85.59   \n",
       "308          2019                          6.40                     68.89   \n",
       "454          2022                         37.34                     53.56   \n",
       "\n",
       "     Total Hours Streamed (Millions)  Avg Stream Duration (Min) Platform Type  \\\n",
       "473                         17691.17                       2.98       Premium   \n",
       "294                         14641.63                       4.19       Premium   \n",
       "156                         15300.52                       4.33       Premium   \n",
       "22                          17975.85                       3.94          Free   \n",
       "251                         20135.14                       2.97       Premium   \n",
       "..                               ...                        ...           ...   \n",
       "175                           418.55                       2.72       Premium   \n",
       "216                           455.78                       3.32          Free   \n",
       "16                            335.14                       2.62          Free   \n",
       "308                           184.30                       4.15       Premium   \n",
       "454                           202.25                       3.26          Free   \n",
       "\n",
       "     Streams Last 30 Days (Millions)  Skip Rate (%)  \n",
       "473                           155.58          13.61  \n",
       "294                            71.61          33.73  \n",
       "156                            40.84           6.29  \n",
       "22                             38.79           9.49  \n",
       "251                           172.35          24.80  \n",
       "..                               ...            ...  \n",
       "175                           117.16          32.07  \n",
       "216                           106.35          11.71  \n",
       "16                            181.18          34.53  \n",
       "308                            40.74           2.00  \n",
       "454                           176.70          25.17  \n",
       "\n",
       "[500 rows x 12 columns]"
      ]
     },
     "execution_count": 13,
     "metadata": {},
     "output_type": "execute_result"
    }
   ],
   "source": [
    "df.sort_values(by = 'Total Streams (Millions)', ascending=False)"
   ]
  },
  {
   "cell_type": "markdown",
   "metadata": {},
   "source": [
    "🎧 Question 8:\n",
    "What are the top 5 most streamed songs in the dataset?\n",
    "(Show full info, not just the stream count)\n",
    "Let’s see what you’ve got."
   ]
  },
  {
   "cell_type": "code",
   "execution_count": 14,
   "metadata": {},
   "outputs": [
    {
     "data": {
      "text/html": [
       "<div>\n",
       "<style scoped>\n",
       "    .dataframe tbody tr th:only-of-type {\n",
       "        vertical-align: middle;\n",
       "    }\n",
       "\n",
       "    .dataframe tbody tr th {\n",
       "        vertical-align: top;\n",
       "    }\n",
       "\n",
       "    .dataframe thead th {\n",
       "        text-align: right;\n",
       "    }\n",
       "</style>\n",
       "<table border=\"1\" class=\"dataframe\">\n",
       "  <thead>\n",
       "    <tr style=\"text-align: right;\">\n",
       "      <th></th>\n",
       "      <th>Country</th>\n",
       "      <th>Artist</th>\n",
       "      <th>Album</th>\n",
       "      <th>Genre</th>\n",
       "      <th>Release Year</th>\n",
       "      <th>Monthly Listeners (Millions)</th>\n",
       "      <th>Total Streams (Millions)</th>\n",
       "      <th>Total Hours Streamed (Millions)</th>\n",
       "      <th>Avg Stream Duration (Min)</th>\n",
       "      <th>Platform Type</th>\n",
       "      <th>Streams Last 30 Days (Millions)</th>\n",
       "      <th>Skip Rate (%)</th>\n",
       "    </tr>\n",
       "  </thead>\n",
       "  <tbody>\n",
       "    <tr>\n",
       "      <th>473</th>\n",
       "      <td>Spain</td>\n",
       "      <td>Billie Eilish</td>\n",
       "      <td>Happier Than Ever</td>\n",
       "      <td>Classical</td>\n",
       "      <td>2019</td>\n",
       "      <td>56.56</td>\n",
       "      <td>4985.54</td>\n",
       "      <td>17691.17</td>\n",
       "      <td>2.98</td>\n",
       "      <td>Premium</td>\n",
       "      <td>155.58</td>\n",
       "      <td>13.61</td>\n",
       "    </tr>\n",
       "    <tr>\n",
       "      <th>294</th>\n",
       "      <td>France</td>\n",
       "      <td>BTS</td>\n",
       "      <td>Proof</td>\n",
       "      <td>Jazz</td>\n",
       "      <td>2023</td>\n",
       "      <td>6.53</td>\n",
       "      <td>4982.14</td>\n",
       "      <td>14641.63</td>\n",
       "      <td>4.19</td>\n",
       "      <td>Premium</td>\n",
       "      <td>71.61</td>\n",
       "      <td>33.73</td>\n",
       "    </tr>\n",
       "    <tr>\n",
       "      <th>156</th>\n",
       "      <td>Germany</td>\n",
       "      <td>BTS</td>\n",
       "      <td>Proof</td>\n",
       "      <td>K-pop</td>\n",
       "      <td>2023</td>\n",
       "      <td>45.18</td>\n",
       "      <td>4982.01</td>\n",
       "      <td>15300.52</td>\n",
       "      <td>4.33</td>\n",
       "      <td>Premium</td>\n",
       "      <td>40.84</td>\n",
       "      <td>6.29</td>\n",
       "    </tr>\n",
       "    <tr>\n",
       "      <th>22</th>\n",
       "      <td>Sweden</td>\n",
       "      <td>BTS</td>\n",
       "      <td>Proof</td>\n",
       "      <td>EDM</td>\n",
       "      <td>2023</td>\n",
       "      <td>95.77</td>\n",
       "      <td>4977.34</td>\n",
       "      <td>17975.85</td>\n",
       "      <td>3.94</td>\n",
       "      <td>Free</td>\n",
       "      <td>38.79</td>\n",
       "      <td>9.49</td>\n",
       "    </tr>\n",
       "    <tr>\n",
       "      <th>251</th>\n",
       "      <td>Sweden</td>\n",
       "      <td>BTS</td>\n",
       "      <td>Proof</td>\n",
       "      <td>Indie</td>\n",
       "      <td>2018</td>\n",
       "      <td>44.47</td>\n",
       "      <td>4970.09</td>\n",
       "      <td>20135.14</td>\n",
       "      <td>2.97</td>\n",
       "      <td>Premium</td>\n",
       "      <td>172.35</td>\n",
       "      <td>24.80</td>\n",
       "    </tr>\n",
       "  </tbody>\n",
       "</table>\n",
       "</div>"
      ],
      "text/plain": [
       "     Country         Artist              Album      Genre  Release Year  \\\n",
       "473    Spain  Billie Eilish  Happier Than Ever  Classical          2019   \n",
       "294   France            BTS              Proof       Jazz          2023   \n",
       "156  Germany            BTS              Proof      K-pop          2023   \n",
       "22    Sweden            BTS              Proof        EDM          2023   \n",
       "251   Sweden            BTS              Proof      Indie          2018   \n",
       "\n",
       "     Monthly Listeners (Millions)  Total Streams (Millions)  \\\n",
       "473                         56.56                   4985.54   \n",
       "294                          6.53                   4982.14   \n",
       "156                         45.18                   4982.01   \n",
       "22                          95.77                   4977.34   \n",
       "251                         44.47                   4970.09   \n",
       "\n",
       "     Total Hours Streamed (Millions)  Avg Stream Duration (Min) Platform Type  \\\n",
       "473                         17691.17                       2.98       Premium   \n",
       "294                         14641.63                       4.19       Premium   \n",
       "156                         15300.52                       4.33       Premium   \n",
       "22                          17975.85                       3.94          Free   \n",
       "251                         20135.14                       2.97       Premium   \n",
       "\n",
       "     Streams Last 30 Days (Millions)  Skip Rate (%)  \n",
       "473                           155.58          13.61  \n",
       "294                            71.61          33.73  \n",
       "156                            40.84           6.29  \n",
       "22                             38.79           9.49  \n",
       "251                           172.35          24.80  "
      ]
     },
     "execution_count": 14,
     "metadata": {},
     "output_type": "execute_result"
    }
   ],
   "source": [
    "df.sort_values(by = 'Total Streams (Millions)', ascending=False).head(5)"
   ]
  },
  {
   "cell_type": "markdown",
   "metadata": {},
   "source": [
    "🎤 Question 9:\n",
    "How many unique artists are in the dataset?\n",
    "Take the mic 🎙️"
   ]
  },
  {
   "cell_type": "code",
   "execution_count": 15,
   "metadata": {},
   "outputs": [
    {
     "data": {
      "text/plain": [
       "15"
      ]
     },
     "execution_count": 15,
     "metadata": {},
     "output_type": "execute_result"
    }
   ],
   "source": [
    "df['Artist'].nunique()"
   ]
  },
  {
   "cell_type": "markdown",
   "metadata": {},
   "source": [
    "🔎 Question 10:\n",
    "Which artist appears most frequently in the dataset?\n",
    "Let’s see who’s dominating the charts — your turn."
   ]
  },
  {
   "cell_type": "code",
   "execution_count": 16,
   "metadata": {},
   "outputs": [
    {
     "data": {
      "text/plain": [
       "0    BTS\n",
       "Name: Artist, dtype: object"
      ]
     },
     "execution_count": 16,
     "metadata": {},
     "output_type": "execute_result"
    }
   ],
   "source": [
    "df['Artist'].mode()"
   ]
  },
  {
   "cell_type": "markdown",
   "metadata": {},
   "source": [
    "🎶 Question 11:\n",
    "What are the top 5 artists with the most songs in the dataset?\n",
    "Let’s see your approach!"
   ]
  },
  {
   "cell_type": "code",
   "execution_count": 17,
   "metadata": {},
   "outputs": [
    {
     "data": {
      "text/plain": [
       "Artist\n",
       "BTS          44\n",
       "Bad Bunny    40\n",
       "Dua Lipa     37\n",
       "BLACKPINK    37\n",
       "Karol G      37\n",
       "Name: count, dtype: int64"
      ]
     },
     "execution_count": 17,
     "metadata": {},
     "output_type": "execute_result"
    }
   ],
   "source": [
    "df['Artist'].value_counts().head()"
   ]
  },
  {
   "cell_type": "markdown",
   "metadata": {},
   "source": [
    "📈 Question 12:\n",
    "What is the average stream count across all songs?"
   ]
  },
  {
   "cell_type": "code",
   "execution_count": 18,
   "metadata": {},
   "outputs": [
    {
     "data": {
      "text/plain": [
       "2581.1540800000002"
      ]
     },
     "execution_count": 18,
     "metadata": {},
     "output_type": "execute_result"
    }
   ],
   "source": [
    "df['Total Streams (Millions)'].mean()"
   ]
  },
  {
   "cell_type": "markdown",
   "metadata": {},
   "source": [
    "🎵 Question 13:\n",
    "What is the song (row) with the lowest stream count?\n",
    "Show the full row that represents the least streamed track.\n",
    "Let’s go!"
   ]
  },
  {
   "cell_type": "code",
   "execution_count": 19,
   "metadata": {},
   "outputs": [
    {
     "data": {
      "text/html": [
       "<div>\n",
       "<style scoped>\n",
       "    .dataframe tbody tr th:only-of-type {\n",
       "        vertical-align: middle;\n",
       "    }\n",
       "\n",
       "    .dataframe tbody tr th {\n",
       "        vertical-align: top;\n",
       "    }\n",
       "\n",
       "    .dataframe thead th {\n",
       "        text-align: right;\n",
       "    }\n",
       "</style>\n",
       "<table border=\"1\" class=\"dataframe\">\n",
       "  <thead>\n",
       "    <tr style=\"text-align: right;\">\n",
       "      <th></th>\n",
       "      <th>Country</th>\n",
       "      <th>Artist</th>\n",
       "      <th>Album</th>\n",
       "      <th>Genre</th>\n",
       "      <th>Release Year</th>\n",
       "      <th>Monthly Listeners (Millions)</th>\n",
       "      <th>Total Streams (Millions)</th>\n",
       "      <th>Total Hours Streamed (Millions)</th>\n",
       "      <th>Avg Stream Duration (Min)</th>\n",
       "      <th>Platform Type</th>\n",
       "      <th>Streams Last 30 Days (Millions)</th>\n",
       "      <th>Skip Rate (%)</th>\n",
       "    </tr>\n",
       "  </thead>\n",
       "  <tbody>\n",
       "    <tr>\n",
       "      <th>454</th>\n",
       "      <td>South Korea</td>\n",
       "      <td>Doja Cat</td>\n",
       "      <td>Scarlet</td>\n",
       "      <td>K-pop</td>\n",
       "      <td>2022</td>\n",
       "      <td>37.34</td>\n",
       "      <td>53.56</td>\n",
       "      <td>202.25</td>\n",
       "      <td>3.26</td>\n",
       "      <td>Free</td>\n",
       "      <td>176.7</td>\n",
       "      <td>25.17</td>\n",
       "    </tr>\n",
       "  </tbody>\n",
       "</table>\n",
       "</div>"
      ],
      "text/plain": [
       "         Country    Artist    Album  Genre  Release Year  \\\n",
       "454  South Korea  Doja Cat  Scarlet  K-pop          2022   \n",
       "\n",
       "     Monthly Listeners (Millions)  Total Streams (Millions)  \\\n",
       "454                         37.34                     53.56   \n",
       "\n",
       "     Total Hours Streamed (Millions)  Avg Stream Duration (Min) Platform Type  \\\n",
       "454                           202.25                       3.26          Free   \n",
       "\n",
       "     Streams Last 30 Days (Millions)  Skip Rate (%)  \n",
       "454                            176.7          25.17  "
      ]
     },
     "execution_count": 19,
     "metadata": {},
     "output_type": "execute_result"
    }
   ],
   "source": [
    "df[df['Total Streams (Millions)']==df['Total Streams (Millions)'].min()]"
   ]
  },
  {
   "cell_type": "markdown",
   "metadata": {},
   "source": [
    "🧮 Question 14:\n",
    "Calculate the total stream count (in millions) for all songs combined."
   ]
  },
  {
   "cell_type": "code",
   "execution_count": 20,
   "metadata": {},
   "outputs": [
    {
     "data": {
      "text/plain": [
       "1290577.04"
      ]
     },
     "execution_count": 20,
     "metadata": {},
     "output_type": "execute_result"
    }
   ],
   "source": [
    "df['Total Streams (Millions)'].sum()"
   ]
  },
  {
   "cell_type": "markdown",
   "metadata": {},
   "source": [
    "🎯 Question 15:\n",
    "Create a new column called 'Stream Category' where:\n",
    "Label as 'High' if streams > 500\n",
    "'Medium' if streams between 200–500\n",
    "'Low' if streams < 200\n",
    "Let’s see how you handle conditional logic!"
   ]
  },
  {
   "cell_type": "code",
   "execution_count": 23,
   "metadata": {},
   "outputs": [
    {
     "data": {
      "text/plain": [
       "0    High\n",
       "1    High\n",
       "2    High\n",
       "3    High\n",
       "4    High\n",
       "Name: Stream Category, dtype: object"
      ]
     },
     "execution_count": 23,
     "metadata": {},
     "output_type": "execute_result"
    }
   ],
   "source": [
    "df['Stream Category'] = df['Total Streams (Millions)'].apply(lambda x: 'High' if x>500 else 'Medium' if 200<x<500 else 'Low' )\n",
    "df['Stream Category'].head()"
   ]
  },
  {
   "cell_type": "markdown",
   "metadata": {},
   "source": [
    "Try that line — and once it's running, continue with Question 16:\n",
    "\n",
    "How many songs fall into each Stream Category?\n",
    "You're back on track! 🧠🔥"
   ]
  },
  {
   "cell_type": "code",
   "execution_count": 24,
   "metadata": {},
   "outputs": [
    {
     "data": {
      "text/plain": [
       "Stream Category\n",
       "High      467\n",
       "Medium     24\n",
       "Low         9\n",
       "Name: count, dtype: int64"
      ]
     },
     "execution_count": 24,
     "metadata": {},
     "output_type": "execute_result"
    }
   ],
   "source": [
    "df['Stream Category'].value_counts()"
   ]
  },
  {
   "cell_type": "markdown",
   "metadata": {},
   "source": [
    "🧠 Question 17:\n",
    "What is the average stream count for each category: High, Medium, and Low?\n",
    "Use your new Stream Category column to group and summarize like a data pro 😎"
   ]
  },
  {
   "cell_type": "code",
   "execution_count": 25,
   "metadata": {},
   "outputs": [
    {
     "data": {
      "text/plain": [
       "Stream Category\n",
       "High      2742.952505\n",
       "Low        130.887778\n",
       "Medium     351.676250\n",
       "Name: Total Streams (Millions), dtype: float64"
      ]
     },
     "execution_count": 25,
     "metadata": {},
     "output_type": "execute_result"
    }
   ],
   "source": [
    "df.groupby('Stream Category')['Total Streams (Millions)'].mean()"
   ]
  },
  {
   "cell_type": "markdown",
   "metadata": {},
   "source": [
    "📊 Question 18:\n",
    "Create a bar chart showing the number of songs in each Stream Category.\n",
    "No hints. Let’s see that matplotlib or seaborn magic. 🎯"
   ]
  },
  {
   "cell_type": "code",
   "execution_count": 29,
   "metadata": {},
   "outputs": [
    {
     "data": {
      "image/png": "[encoded data removed]",
      "text/plain": [
       "<Figure size 640x480 with 1 Axes>"
      ]
     },
     "metadata": {},
     "output_type": "display_data"
    }
   ],
   "source": [
    "import matplotlib.pyplot as plt\n",
    "df['Stream Category'].value_counts().plot(kind='bar')\n",
    "plt.show()"
   ]
  },
  {
   "cell_type": "markdown",
   "metadata": {},
   "source": [
    "🧠 Question 19:\n",
    "Drop the Stream Category column from the DataFrame (in-place).\n",
    "Keep that momentum going!"
   ]
  },
  {
   "cell_type": "code",
   "execution_count": 32,
   "metadata": {},
   "outputs": [],
   "source": [
    "df.drop(columns='Stream Category', inplace=True)"
   ]
  },
  {
   "cell_type": "markdown",
   "metadata": {},
   "source": [
    "🔁 Question 20:\n",
    "Reset the DataFrame index and drop the old index (if any).\n",
    "Keep the streak alive!"
   ]
  },
  {
   "cell_type": "code",
   "execution_count": 33,
   "metadata": {},
   "outputs": [
    {
     "data": {
      "text/html": [
       "<div>\n",
       "<style scoped>\n",
       "    .dataframe tbody tr th:only-of-type {\n",
       "        vertical-align: middle;\n",
       "    }\n",
       "\n",
       "    .dataframe tbody tr th {\n",
       "        vertical-align: top;\n",
       "    }\n",
       "\n",
       "    .dataframe thead th {\n",
       "        text-align: right;\n",
       "    }\n",
       "</style>\n",
       "<table border=\"1\" class=\"dataframe\">\n",
       "  <thead>\n",
       "    <tr style=\"text-align: right;\">\n",
       "      <th></th>\n",
       "      <th>Country</th>\n",
       "      <th>Artist</th>\n",
       "      <th>Album</th>\n",
       "      <th>Genre</th>\n",
       "      <th>Release Year</th>\n",
       "      <th>Monthly Listeners (Millions)</th>\n",
       "      <th>Total Streams (Millions)</th>\n",
       "      <th>Total Hours Streamed (Millions)</th>\n",
       "      <th>Avg Stream Duration (Min)</th>\n",
       "      <th>Platform Type</th>\n",
       "      <th>Streams Last 30 Days (Millions)</th>\n",
       "      <th>Skip Rate (%)</th>\n",
       "    </tr>\n",
       "  </thead>\n",
       "  <tbody>\n",
       "    <tr>\n",
       "      <th>0</th>\n",
       "      <td>Germany</td>\n",
       "      <td>Taylor Swift</td>\n",
       "      <td>1989 (Taylor's Version)</td>\n",
       "      <td>K-pop</td>\n",
       "      <td>2019</td>\n",
       "      <td>23.10</td>\n",
       "      <td>3695.53</td>\n",
       "      <td>14240.35</td>\n",
       "      <td>4.28</td>\n",
       "      <td>Free</td>\n",
       "      <td>118.51</td>\n",
       "      <td>2.24</td>\n",
       "    </tr>\n",
       "    <tr>\n",
       "      <th>1</th>\n",
       "      <td>Brazil</td>\n",
       "      <td>The Weeknd</td>\n",
       "      <td>After Hours</td>\n",
       "      <td>R&amp;B</td>\n",
       "      <td>2022</td>\n",
       "      <td>60.60</td>\n",
       "      <td>2828.16</td>\n",
       "      <td>11120.44</td>\n",
       "      <td>3.90</td>\n",
       "      <td>Premium</td>\n",
       "      <td>44.87</td>\n",
       "      <td>23.98</td>\n",
       "    </tr>\n",
       "    <tr>\n",
       "      <th>2</th>\n",
       "      <td>United States</td>\n",
       "      <td>Post Malone</td>\n",
       "      <td>Austin</td>\n",
       "      <td>Reggaeton</td>\n",
       "      <td>2023</td>\n",
       "      <td>42.84</td>\n",
       "      <td>1425.46</td>\n",
       "      <td>4177.49</td>\n",
       "      <td>4.03</td>\n",
       "      <td>Free</td>\n",
       "      <td>19.46</td>\n",
       "      <td>4.77</td>\n",
       "    </tr>\n",
       "    <tr>\n",
       "      <th>3</th>\n",
       "      <td>Italy</td>\n",
       "      <td>Ed Sheeran</td>\n",
       "      <td>Autumn Variations</td>\n",
       "      <td>K-pop</td>\n",
       "      <td>2018</td>\n",
       "      <td>73.24</td>\n",
       "      <td>2704.33</td>\n",
       "      <td>12024.08</td>\n",
       "      <td>3.26</td>\n",
       "      <td>Premium</td>\n",
       "      <td>166.05</td>\n",
       "      <td>25.12</td>\n",
       "    </tr>\n",
       "    <tr>\n",
       "      <th>4</th>\n",
       "      <td>Italy</td>\n",
       "      <td>Ed Sheeran</td>\n",
       "      <td>Autumn Variations</td>\n",
       "      <td>R&amp;B</td>\n",
       "      <td>2023</td>\n",
       "      <td>7.89</td>\n",
       "      <td>3323.25</td>\n",
       "      <td>13446.32</td>\n",
       "      <td>4.47</td>\n",
       "      <td>Free</td>\n",
       "      <td>173.43</td>\n",
       "      <td>15.82</td>\n",
       "    </tr>\n",
       "    <tr>\n",
       "      <th>...</th>\n",
       "      <td>...</td>\n",
       "      <td>...</td>\n",
       "      <td>...</td>\n",
       "      <td>...</td>\n",
       "      <td>...</td>\n",
       "      <td>...</td>\n",
       "      <td>...</td>\n",
       "      <td>...</td>\n",
       "      <td>...</td>\n",
       "      <td>...</td>\n",
       "      <td>...</td>\n",
       "      <td>...</td>\n",
       "    </tr>\n",
       "    <tr>\n",
       "      <th>495</th>\n",
       "      <td>Brazil</td>\n",
       "      <td>Karol G</td>\n",
       "      <td>MAÑANA SERÁ BONITO</td>\n",
       "      <td>Jazz</td>\n",
       "      <td>2018</td>\n",
       "      <td>18.80</td>\n",
       "      <td>2947.97</td>\n",
       "      <td>12642.83</td>\n",
       "      <td>3.59</td>\n",
       "      <td>Premium</td>\n",
       "      <td>83.30</td>\n",
       "      <td>18.58</td>\n",
       "    </tr>\n",
       "    <tr>\n",
       "      <th>496</th>\n",
       "      <td>Canada</td>\n",
       "      <td>Dua Lipa</td>\n",
       "      <td>Future Nostalgia</td>\n",
       "      <td>Classical</td>\n",
       "      <td>2023</td>\n",
       "      <td>89.68</td>\n",
       "      <td>4418.61</td>\n",
       "      <td>11843.46</td>\n",
       "      <td>3.15</td>\n",
       "      <td>Free</td>\n",
       "      <td>143.96</td>\n",
       "      <td>5.82</td>\n",
       "    </tr>\n",
       "    <tr>\n",
       "      <th>497</th>\n",
       "      <td>Germany</td>\n",
       "      <td>Karol G</td>\n",
       "      <td>MAÑANA SERÁ BONITO</td>\n",
       "      <td>Rock</td>\n",
       "      <td>2023</td>\n",
       "      <td>36.93</td>\n",
       "      <td>2642.90</td>\n",
       "      <td>8637.46</td>\n",
       "      <td>4.08</td>\n",
       "      <td>Free</td>\n",
       "      <td>76.36</td>\n",
       "      <td>15.84</td>\n",
       "    </tr>\n",
       "    <tr>\n",
       "      <th>498</th>\n",
       "      <td>Canada</td>\n",
       "      <td>SZA</td>\n",
       "      <td>SOS</td>\n",
       "      <td>Indie</td>\n",
       "      <td>2022</td>\n",
       "      <td>87.26</td>\n",
       "      <td>4320.23</td>\n",
       "      <td>12201.40</td>\n",
       "      <td>2.79</td>\n",
       "      <td>Free</td>\n",
       "      <td>84.50</td>\n",
       "      <td>13.07</td>\n",
       "    </tr>\n",
       "    <tr>\n",
       "      <th>499</th>\n",
       "      <td>Sweden</td>\n",
       "      <td>BTS</td>\n",
       "      <td>Proof</td>\n",
       "      <td>Reggaeton</td>\n",
       "      <td>2018</td>\n",
       "      <td>89.96</td>\n",
       "      <td>4804.15</td>\n",
       "      <td>12044.32</td>\n",
       "      <td>4.03</td>\n",
       "      <td>Free</td>\n",
       "      <td>92.27</td>\n",
       "      <td>34.36</td>\n",
       "    </tr>\n",
       "  </tbody>\n",
       "</table>\n",
       "<p>500 rows × 12 columns</p>\n",
       "</div>"
      ],
      "text/plain": [
       "           Country        Artist                    Album      Genre  \\\n",
       "0          Germany  Taylor Swift  1989 (Taylor's Version)      K-pop   \n",
       "1           Brazil    The Weeknd              After Hours        R&B   \n",
       "2    United States   Post Malone                   Austin  Reggaeton   \n",
       "3            Italy    Ed Sheeran        Autumn Variations      K-pop   \n",
       "4            Italy    Ed Sheeran        Autumn Variations        R&B   \n",
       "..             ...           ...                      ...        ...   \n",
       "495         Brazil       Karol G       MAÑANA SERÁ BONITO       Jazz   \n",
       "496         Canada      Dua Lipa         Future Nostalgia  Classical   \n",
       "497        Germany       Karol G       MAÑANA SERÁ BONITO       Rock   \n",
       "498         Canada           SZA                      SOS      Indie   \n",
       "499         Sweden           BTS                    Proof  Reggaeton   \n",
       "\n",
       "     Release Year  Monthly Listeners (Millions)  Total Streams (Millions)  \\\n",
       "0            2019                         23.10                   3695.53   \n",
       "1            2022                         60.60                   2828.16   \n",
       "2            2023                         42.84                   1425.46   \n",
       "3            2018                         73.24                   2704.33   \n",
       "4            2023                          7.89                   3323.25   \n",
       "..            ...                           ...                       ...   \n",
       "495          2018                         18.80                   2947.97   \n",
       "496          2023                         89.68                   4418.61   \n",
       "497          2023                         36.93                   2642.90   \n",
       "498          2022                         87.26                   4320.23   \n",
       "499          2018                         89.96                   4804.15   \n",
       "\n",
       "     Total Hours Streamed (Millions)  Avg Stream Duration (Min) Platform Type  \\\n",
       "0                           14240.35                       4.28          Free   \n",
       "1                           11120.44                       3.90       Premium   \n",
       "2                            4177.49                       4.03          Free   \n",
       "3                           12024.08                       3.26       Premium   \n",
       "4                           13446.32                       4.47          Free   \n",
       "..                               ...                        ...           ...   \n",
       "495                         12642.83                       3.59       Premium   \n",
       "496                         11843.46                       3.15          Free   \n",
       "497                          8637.46                       4.08          Free   \n",
       "498                         12201.40                       2.79          Free   \n",
       "499                         12044.32                       4.03          Free   \n",
       "\n",
       "     Streams Last 30 Days (Millions)  Skip Rate (%)  \n",
       "0                             118.51           2.24  \n",
       "1                              44.87          23.98  \n",
       "2                              19.46           4.77  \n",
       "3                             166.05          25.12  \n",
       "4                             173.43          15.82  \n",
       "..                               ...            ...  \n",
       "495                            83.30          18.58  \n",
       "496                           143.96           5.82  \n",
       "497                            76.36          15.84  \n",
       "498                            84.50          13.07  \n",
       "499                            92.27          34.36  \n",
       "\n",
       "[500 rows x 12 columns]"
      ]
     },
     "execution_count": 33,
     "metadata": {},
     "output_type": "execute_result"
    }
   ],
   "source": [
    "df.reset_index(drop=True)"
   ]
  },
  {
   "cell_type": "markdown",
   "metadata": {},
   "source": [
    "🔍 Question 21:\n",
    "Group the dataset by Artist and count how many songs each one has.\n",
    "Only show the top 10 artists."
   ]
  },
  {
   "cell_type": "code",
   "execution_count": 37,
   "metadata": {},
   "outputs": [
    {
     "data": {
      "text/plain": [
       "Artist\n",
       "BTS               44\n",
       "Bad Bunny         40\n",
       "Dua Lipa          37\n",
       "BLACKPINK         37\n",
       "Karol G           37\n",
       "Ed Sheeran        35\n",
       "Doja Cat          34\n",
       "Olivia Rodrigo    34\n",
       "Post Malone       31\n",
       "Billie Eilish     31\n",
       "Name: count, dtype: int64"
      ]
     },
     "execution_count": 37,
     "metadata": {},
     "output_type": "execute_result"
    }
   ],
   "source": [
    "df['Artist'].value_counts().head(10)"
   ]
  },
  {
   "cell_type": "markdown",
   "metadata": {},
   "source": [
    "🌟 Question 22:\n",
    "How many songs were released in 2023 only?\n",
    "Use the appropriate date column for filtering.\n",
    "(You got this!)"
   ]
  },
  {
   "cell_type": "code",
   "execution_count": 43,
   "metadata": {},
   "outputs": [
    {
     "data": {
      "text/plain": [
       "77"
      ]
     },
     "execution_count": 43,
     "metadata": {},
     "output_type": "execute_result"
    }
   ],
   "source": [
    "df[df['Release Year'] == 2023].shape[0]"
   ]
  },
  {
   "cell_type": "markdown",
   "metadata": {},
   "source": [
    "🧠 Question 23:\n",
    "What is the median stream count across all songs?"
   ]
  },
  {
   "cell_type": "code",
   "execution_count": 44,
   "metadata": {},
   "outputs": [
    {
     "data": {
      "text/plain": [
       "2697.3549999999996"
      ]
     },
     "execution_count": 44,
     "metadata": {},
     "output_type": "execute_result"
    }
   ],
   "source": [
    "df['Total Streams (Millions)'].median()"
   ]
  },
  {
   "cell_type": "markdown",
   "metadata": {},
   "source": [
    "🧼 Question 24:\n",
    "Convert all artist names to uppercase.\n",
    "Update the 'Artist' column in-place."
   ]
  },
  {
   "cell_type": "code",
   "execution_count": 46,
   "metadata": {},
   "outputs": [],
   "source": [
    "df['Artist']=df['Artist'].str.upper()"
   ]
  },
  {
   "cell_type": "markdown",
   "metadata": {},
   "source": [
    "📊 Question 25:\n",
    "Create a pivot table that shows the average streams per 'Genre' (if that column exists).\n",
    "If not, choose a similar categorical column you see fit."
   ]
  },
  {
   "cell_type": "code",
   "execution_count": 50,
   "metadata": {},
   "outputs": [
    {
     "data": {
      "text/html": [
       "<div>\n",
       "<style scoped>\n",
       "    .dataframe tbody tr th:only-of-type {\n",
       "        vertical-align: middle;\n",
       "    }\n",
       "\n",
       "    .dataframe tbody tr th {\n",
       "        vertical-align: top;\n",
       "    }\n",
       "\n",
       "    .dataframe thead th {\n",
       "        text-align: right;\n",
       "    }\n",
       "</style>\n",
       "<table border=\"1\" class=\"dataframe\">\n",
       "  <thead>\n",
       "    <tr style=\"text-align: right;\">\n",
       "      <th></th>\n",
       "      <th>Total Streams (Millions)</th>\n",
       "    </tr>\n",
       "    <tr>\n",
       "      <th>Genre</th>\n",
       "      <th></th>\n",
       "    </tr>\n",
       "  </thead>\n",
       "  <tbody>\n",
       "    <tr>\n",
       "      <th>Classical</th>\n",
       "      <td>2739.955417</td>\n",
       "    </tr>\n",
       "    <tr>\n",
       "      <th>EDM</th>\n",
       "      <td>2466.699804</td>\n",
       "    </tr>\n",
       "    <tr>\n",
       "      <th>Hip Hop</th>\n",
       "      <td>2284.867551</td>\n",
       "    </tr>\n",
       "    <tr>\n",
       "      <th>Indie</th>\n",
       "      <td>2661.669400</td>\n",
       "    </tr>\n",
       "    <tr>\n",
       "      <th>Jazz</th>\n",
       "      <td>2408.460000</td>\n",
       "    </tr>\n",
       "    <tr>\n",
       "      <th>K-pop</th>\n",
       "      <td>2760.691667</td>\n",
       "    </tr>\n",
       "    <tr>\n",
       "      <th>Pop</th>\n",
       "      <td>2686.797500</td>\n",
       "    </tr>\n",
       "    <tr>\n",
       "      <th>R&amp;B</th>\n",
       "      <td>2779.311707</td>\n",
       "    </tr>\n",
       "    <tr>\n",
       "      <th>Reggaeton</th>\n",
       "      <td>2404.313636</td>\n",
       "    </tr>\n",
       "    <tr>\n",
       "      <th>Rock</th>\n",
       "      <td>2558.947069</td>\n",
       "    </tr>\n",
       "  </tbody>\n",
       "</table>\n",
       "</div>"
      ],
      "text/plain": [
       "           Total Streams (Millions)\n",
       "Genre                              \n",
       "Classical               2739.955417\n",
       "EDM                     2466.699804\n",
       "Hip Hop                 2284.867551\n",
       "Indie                   2661.669400\n",
       "Jazz                    2408.460000\n",
       "K-pop                   2760.691667\n",
       "Pop                     2686.797500\n",
       "R&B                     2779.311707\n",
       "Reggaeton               2404.313636\n",
       "Rock                    2558.947069"
      ]
     },
     "execution_count": 50,
     "metadata": {},
     "output_type": "execute_result"
    }
   ],
   "source": [
    "df.pivot_table(values = 'Total Streams (Millions)', index='Genre', aggfunc='mean')"
   ]
  },
  {
   "cell_type": "markdown",
   "metadata": {},
   "source": [
    "💾 Question 26:\n",
    "Save the current version of your DataFrame to a new CSV file named 'spotify_cleaned.csv'\n",
    "Let’s lock in your progress!"
   ]
  },
  {
   "cell_type": "code",
   "execution_count": 52,
   "metadata": {},
   "outputs": [],
   "source": [
    "df.to_csv('sportify_cleaned.csv', index = False)"
   ]
  },
  {
   "cell_type": "markdown",
   "metadata": {},
   "source": [
    "🧠 Question 27:\n",
    "Replace the word 'HIP-HOP' with 'RAP' in the 'Genre' column.\n",
    "Almost done! Push to the finish line 💪"
   ]
  },
  {
   "cell_type": "code",
   "execution_count": 54,
   "metadata": {},
   "outputs": [],
   "source": [
    "df['Genre'] = df['Genre'].replace('HIP-HOP', 'RAP')"
   ]
  },
  {
   "cell_type": "markdown",
   "metadata": {},
   "source": [
    "🆕 Question 28:\n",
    "Add a new row to the DataFrame:\n",
    "Artist: \"HASAN\", Genre: \"CUSTOM\", Total Streams: 123, Release Year: 2025\n",
    "Use dummy data to fill any other required columns."
   ]
  },
  {
   "cell_type": "code",
   "execution_count": 55,
   "metadata": {},
   "outputs": [],
   "source": [
    "new_row = {\n",
    "    'Artist': 'HASAN',\n",
    "    'Track Name': 'THE RISE',\n",
    "    'Genre': 'CUSTOM',\n",
    "    'Total Streams (Millions)': 123,\n",
    "    'Release Year': 2025,\n",
    "    # add more fields here with dummy values if needed\n",
    "}\n",
    "\n",
    "df = pd.concat([df, pd.DataFrame([new_row])], ignore_index=True)\n"
   ]
  },
  {
   "cell_type": "markdown",
   "metadata": {},
   "source": [
    "🧹 Question 29:\n",
    "Drop all songs where the stream count is less than 200 million\n",
    "Make sure the DataFrame updates (either in-place or reassigned).\n",
    "Your move, commander 💻👨‍🚀"
   ]
  },
  {
   "cell_type": "code",
   "execution_count": 60,
   "metadata": {},
   "outputs": [],
   "source": [
    "row_drop = df[df['Total Streams (Millions)']<200].index\n",
    "df.drop(index = row_drop, inplace=True)"
   ]
  },
  {
   "cell_type": "markdown",
   "metadata": {},
   "source": [
    "🧾 Question 30 — The Final One:\n",
    "Export a new CSV file that contains only the 'Artist', 'Track Name', and 'Total Streams (Millions)' columns.\n",
    "Name it: 'spotify_summary.csv'\n",
    "Don’t include the index.\n",
    "No hints. Let’s see you close this out like a champ 💪"
   ]
  },
  {
   "cell_type": "code",
   "execution_count": 62,
   "metadata": {},
   "outputs": [],
   "source": [
    "df[['Artist', 'Track Name', 'Total Streams (Millions)']].to_csv('spotify_summary.csv', index=False)\n"
   ]
  },
  {
   "cell_type": "markdown",
   "metadata": {},
   "source": [
    "# ✅ Exam Score Summary\n",
    "\n",
    "**Spotify Data Science Exam**  \n",
    "- **Questions Attempted:** 30  \n",
    "- **Score:** 29 / 30  \n",
    "- **Topics Covered:** Pandas, Data Cleaning, Aggregation, Visualization, Feature Engineering  \n",
    "- **Dataset:** Spotify Global Streaming Data 2024  \n",
    "- **Tools Used:** Python, Pandas, Matplotlib  \n",
    "\n",
    "> All questions were answered interactively in Jupyter using real-world data."
   ]
  }
 ],
 "metadata": {
  "kernelspec": {
   "display_name": "Python 3",
   "language": "python",
   "name": "python3"
  },
  "language_info": {
   "codemirror_mode": {
    "name": "ipython",
    "version": 3
   },
   "file_extension": ".py",
   "mimetype": "text/x-python",
   "name": "python",
   "nbconvert_exporter": "python",
   "pygments_lexer": "ipython3",
   "version": "3.12.3"
  }
 },
 "nbformat": 4,
 "nbformat_minor": 2
}
