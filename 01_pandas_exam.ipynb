{
 "cells": [
  {
   "cell_type": "markdown",
   "id": "988a8762",
   "metadata": {},
   "source": [
    "# 01 - Pandas Exam\n",
    "This notebook contains 30 pandas practice questions based on a sample employee dataset."
   ]
  },
  {
   "cell_type": "markdown",
   "id": "9dcbd583",
   "metadata": {},
   "source": [
    "### 1. Load the dataset `sample_employees.csv` into a DataFrame."
   ]
  },
  {
   "cell_type": "code",
   "execution_count": null,
   "id": "30c71ea5",
   "metadata": {},
   "outputs": [
    {
     "ename": "",
     "evalue": "",
     "output_type": "error",
     "traceback": [
      "\u001b[1;31mRunning cells with 'Python 3.13.3' requires the ipykernel package.\n",
      "\u001b[1;31mRun the following command to install 'ipykernel' into the Python environment. \n",
      "\u001b[1;31mCommand: '/opt/homebrew/bin/python3 -m pip install ipykernel -U --user --force-reinstall'"
     ]
    }
   ],
   "source": [
    "import pandas as pd\n",
    "pd.read_csv('data.csv', sep=',', header=0, index_col=0)"
   ]
  },
  {
   "cell_type": "markdown",
   "id": "c6729804",
   "metadata": {},
   "source": [
    "### 2. Display the first 5 rows of the DataFrame."
   ]
  },
  {
   "cell_type": "code",
   "execution_count": null,
   "id": "ebbf9a01",
   "metadata": {},
   "outputs": [],
   "source": [
    "# Your code here"
   ]
  },
  {
   "cell_type": "markdown",
   "id": "9cc2f48b",
   "metadata": {},
   "source": [
    "### 3. What is the shape of the DataFrame?"
   ]
  },
  {
   "cell_type": "code",
   "execution_count": null,
   "id": "f7a159f7",
   "metadata": {},
   "outputs": [],
   "source": [
    "# Your code here"
   ]
  },
  {
   "cell_type": "markdown",
   "id": "3a6e6946",
   "metadata": {},
   "source": [
    "### 4. Print the column names."
   ]
  },
  {
   "cell_type": "code",
   "execution_count": null,
   "id": "cd0782cf",
   "metadata": {},
   "outputs": [],
   "source": [
    "# Your code here"
   ]
  },
  {
   "cell_type": "markdown",
   "id": "4d3c2f7b",
   "metadata": {},
   "source": [
    "### 5. Get the data types of each column."
   ]
  },
  {
   "cell_type": "code",
   "execution_count": null,
   "id": "b56b58b7",
   "metadata": {},
   "outputs": [],
   "source": [
    "# Your code here"
   ]
  },
  {
   "cell_type": "markdown",
   "id": "3e326b82",
   "metadata": {},
   "source": [
    "### 6. Check if there are any missing values."
   ]
  },
  {
   "cell_type": "code",
   "execution_count": null,
   "id": "7f7861ee",
   "metadata": {},
   "outputs": [],
   "source": [
    "# Your code here"
   ]
  },
  {
   "cell_type": "markdown",
   "id": "0c890496",
   "metadata": {},
   "source": [
    "### 7. Describe the DataFrame using `.describe()`."
   ]
  },
  {
   "cell_type": "code",
   "execution_count": null,
   "id": "5b570c64",
   "metadata": {},
   "outputs": [],
   "source": [
    "# Your code here"
   ]
  },
  {
   "cell_type": "markdown",
   "id": "3037ffaa",
   "metadata": {},
   "source": [
    "### 8. Sort the data by Salary in descending order."
   ]
  },
  {
   "cell_type": "code",
   "execution_count": null,
   "id": "62f2e61d",
   "metadata": {},
   "outputs": [],
   "source": [
    "# Your code here"
   ]
  },
  {
   "cell_type": "markdown",
   "id": "13737ebb",
   "metadata": {},
   "source": [
    "### 9. Filter rows where Age is greater than 30."
   ]
  },
  {
   "cell_type": "code",
   "execution_count": null,
   "id": "85f3fed2",
   "metadata": {},
   "outputs": [],
   "source": [
    "# Your code here"
   ]
  },
  {
   "cell_type": "markdown",
   "id": "f255875c",
   "metadata": {},
   "source": [
    "### 10. Filter employees in the HR department."
   ]
  },
  {
   "cell_type": "code",
   "execution_count": null,
   "id": "50d8afdb",
   "metadata": {},
   "outputs": [],
   "source": [
    "# Your code here"
   ]
  },
  {
   "cell_type": "markdown",
   "id": "a55271fe",
   "metadata": {},
   "source": [
    "### 11. Count the number of employees in each department."
   ]
  },
  {
   "cell_type": "code",
   "execution_count": null,
   "id": "3a73863a",
   "metadata": {},
   "outputs": [],
   "source": [
    "# Your code here"
   ]
  },
  {
   "cell_type": "markdown",
   "id": "14b63d1d",
   "metadata": {},
   "source": [
    "### 12. Calculate the average Salary."
   ]
  },
  {
   "cell_type": "code",
   "execution_count": null,
   "id": "abb657f4",
   "metadata": {},
   "outputs": [],
   "source": [
    "# Your code here"
   ]
  },
  {
   "cell_type": "markdown",
   "id": "ce7bb585",
   "metadata": {},
   "source": [
    "### 13. What is the maximum Age?"
   ]
  },
  {
   "cell_type": "code",
   "execution_count": null,
   "id": "9b63736f",
   "metadata": {},
   "outputs": [],
   "source": [
    "# Your code here"
   ]
  },
  {
   "cell_type": "markdown",
   "id": "2caac3ac",
   "metadata": {},
   "source": [
    "### 14. Add a new column called `Seniority_Level` with value 'Senior' if Age > 30, else 'Junior'."
   ]
  },
  {
   "cell_type": "code",
   "execution_count": null,
   "id": "8a684c0c",
   "metadata": {},
   "outputs": [],
   "source": [
    "# Your code here"
   ]
  },
  {
   "cell_type": "markdown",
   "id": "2c55d493",
   "metadata": {},
   "source": [
    "### 15. Rename the column 'Salary' to 'Annual_Salary'."
   ]
  },
  {
   "cell_type": "code",
   "execution_count": null,
   "id": "8ba31634",
   "metadata": {},
   "outputs": [],
   "source": [
    "# Your code here"
   ]
  },
  {
   "cell_type": "markdown",
   "id": "10085b52",
   "metadata": {},
   "source": [
    "### 16. Extract year from the 'Joining_Date' column."
   ]
  },
  {
   "cell_type": "code",
   "execution_count": null,
   "id": "25f25b08",
   "metadata": {},
   "outputs": [],
   "source": [
    "# Your code here"
   ]
  },
  {
   "cell_type": "markdown",
   "id": "16bad398",
   "metadata": {},
   "source": [
    "### 17. What is the average salary by department?"
   ]
  },
  {
   "cell_type": "code",
   "execution_count": null,
   "id": "a33fbd23",
   "metadata": {},
   "outputs": [],
   "source": [
    "# Your code here"
   ]
  },
  {
   "cell_type": "markdown",
   "id": "f80be6e7",
   "metadata": {},
   "source": [
    "### 18. Create a bar plot showing average salary per department."
   ]
  },
  {
   "cell_type": "code",
   "execution_count": null,
   "id": "11448bfb",
   "metadata": {},
   "outputs": [],
   "source": [
    "# Your code here"
   ]
  },
  {
   "cell_type": "markdown",
   "id": "cfb3a383",
   "metadata": {},
   "source": [
    "### 19. Drop the column `Joining_Date`."
   ]
  },
  {
   "cell_type": "code",
   "execution_count": null,
   "id": "c260b97f",
   "metadata": {},
   "outputs": [],
   "source": [
    "# Your code here"
   ]
  },
  {
   "cell_type": "markdown",
   "id": "592f9990",
   "metadata": {},
   "source": [
    "### 20. Reset the index of the DataFrame."
   ]
  },
  {
   "cell_type": "code",
   "execution_count": null,
   "id": "648f5d82",
   "metadata": {},
   "outputs": [],
   "source": [
    "# Your code here"
   ]
  },
  {
   "cell_type": "markdown",
   "id": "23ea65ab",
   "metadata": {},
   "source": [
    "### 21. Group by Department and count the number of people."
   ]
  },
  {
   "cell_type": "code",
   "execution_count": null,
   "id": "52d7788e",
   "metadata": {},
   "outputs": [],
   "source": [
    "# Your code here"
   ]
  },
  {
   "cell_type": "markdown",
   "id": "08b4b63d",
   "metadata": {},
   "source": [
    "### 22. Show employees who joined after 2020."
   ]
  },
  {
   "cell_type": "code",
   "execution_count": null,
   "id": "2ec98c07",
   "metadata": {},
   "outputs": [],
   "source": [
    "# Your code here"
   ]
  },
  {
   "cell_type": "markdown",
   "id": "847bfbe6",
   "metadata": {},
   "source": [
    "### 23. What is the median age of all employees?"
   ]
  },
  {
   "cell_type": "code",
   "execution_count": null,
   "id": "36b68e59",
   "metadata": {},
   "outputs": [],
   "source": [
    "# Your code here"
   ]
  },
  {
   "cell_type": "markdown",
   "id": "35034d15",
   "metadata": {},
   "source": [
    "### 24. Change all department names to uppercase."
   ]
  },
  {
   "cell_type": "code",
   "execution_count": null,
   "id": "e7062c98",
   "metadata": {},
   "outputs": [],
   "source": [
    "# Your code here"
   ]
  },
  {
   "cell_type": "markdown",
   "id": "3bdf177b",
   "metadata": {},
   "source": [
    "### 25. Create a pivot table with Department as index and average salary as values."
   ]
  },
  {
   "cell_type": "code",
   "execution_count": null,
   "id": "ae8e28e9",
   "metadata": {},
   "outputs": [],
   "source": [
    "# Your code here"
   ]
  },
  {
   "cell_type": "markdown",
   "id": "8a9bc92d",
   "metadata": {},
   "source": [
    "### 26. Save the modified DataFrame to a new CSV file."
   ]
  },
  {
   "cell_type": "code",
   "execution_count": null,
   "id": "af848f37",
   "metadata": {},
   "outputs": [],
   "source": [
    "# Your code here"
   ]
  },
  {
   "cell_type": "markdown",
   "id": "b8955456",
   "metadata": {},
   "source": [
    "### 27. Replace 'IT' with 'Tech' in the Department column."
   ]
  },
  {
   "cell_type": "code",
   "execution_count": null,
   "id": "c44dc2ec",
   "metadata": {},
   "outputs": [],
   "source": [
    "# Your code here"
   ]
  },
  {
   "cell_type": "markdown",
   "id": "599943f4",
   "metadata": {},
   "source": [
    "### 28. Add a new employee record to the DataFrame."
   ]
  },
  {
   "cell_type": "code",
   "execution_count": null,
   "id": "6b5cbd94",
   "metadata": {},
   "outputs": [],
   "source": [
    "# Your code here"
   ]
  },
  {
   "cell_type": "markdown",
   "id": "dfec1cbb",
   "metadata": {},
   "source": [
    "### 29. Drop employees younger than 30."
   ]
  },
  {
   "cell_type": "code",
   "execution_count": null,
   "id": "2e130687",
   "metadata": {},
   "outputs": [],
   "source": [
    "# Your code here"
   ]
  },
  {
   "cell_type": "markdown",
   "id": "b9e81017",
   "metadata": {},
   "source": [
    "### 30. Export only the Name and Salary columns to a new CSV."
   ]
  },
  {
   "cell_type": "code",
   "execution_count": null,
   "id": "dd7f3ac1",
   "metadata": {},
   "outputs": [],
   "source": [
    "# Your code here"
   ]
  }
 ],
 "metadata": {
  "kernelspec": {
   "display_name": "Python 3",
   "language": "python",
   "name": "python3"
  },
  "language": "python",
  "language_info": {
   "name": "python",
   "version": "3.13.3"
  }
 },
 "nbformat": 4,
 "nbformat_minor": 5
}
