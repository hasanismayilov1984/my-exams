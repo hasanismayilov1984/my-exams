{
 "cells": [
  {
   "cell_type": "code",
   "execution_count": null,
   "id": "428ce169",
   "metadata": {},
   "outputs": [],
   "source": [
    "import pandas as pd\n",
    "\n",
    "df = pd.read_csv('sugar_consumption_dataset.csv')\n",
    "df.head()"
   ]
  },
  {
   "cell_type": "markdown",
   "id": "af004c47",
   "metadata": {},
   "source": [
    "✅ Question 1:\n",
    "List all unique countries in the dataset.\n",
    "\n",
    "How many countries are represented?\n",
    "Show the sorted list of country names."
   ]
  },
  {
   "cell_type": "code",
   "execution_count": null,
   "id": "9efb651c",
   "metadata": {},
   "outputs": [],
   "source": [
    "print(df['Country'].value_counts())\n",
    "print(sorted(df['Country'].unique()))\n",
    "print(df['Country'].nunique())"
   ]
  },
  {
   "cell_type": "markdown",
   "id": "82c7a107",
   "metadata": {},
   "source": [
    "Question 2:\n",
    "What are the years covered in this dataset?\n",
    "\n",
    "Your task:\n",
    "\n",
    "Find the name of the column that represents the year (likely something like \"Year\" or similar).\n",
    "List all unique years in ascending order.\n",
    "Count how many unique years are represented."
   ]
  },
  {
   "cell_type": "code",
   "execution_count": null,
   "id": "eefe82bc",
   "metadata": {},
   "outputs": [],
   "source": [
    "print(df['Year'].value_counts())\n",
    "print(sorted(df['Year'].unique()))\n",
    "print(df['Year'].nunique())"
   ]
  },
  {
   "cell_type": "markdown",
   "id": "7c141c19",
   "metadata": {},
   "source": [
    "Question 3:\n",
    "Which continent has the highest average per capita sugar consumption across all years?"
   ]
  },
  {
   "cell_type": "code",
   "execution_count": null,
   "id": "e4fc402b",
   "metadata": {},
   "outputs": [],
   "source": [
    "print(df['Year'].value_counts())\n",
    "print(sorted(df['Year'].unique()))\n",
    "print(df['Year'].nunique())"
   ]
  },
  {
   "cell_type": "markdown",
   "id": "14350f99",
   "metadata": {},
   "source": [
    "✅ Question 3: Continent with Highest Average Per Capita Sugar Consumption"
   ]
  },
  {
   "cell_type": "code",
   "execution_count": null,
   "id": "880d5cec",
   "metadata": {},
   "outputs": [],
   "source": [
    "df.groupby('Continent')[\"Per_Capita_Sugar_Consumption\"].agg('mean').sort_values()"
   ]
  },
  {
   "cell_type": "markdown",
   "id": "688a9f6b",
   "metadata": {},
   "source": [
    "Question 4:\n",
    "Is there a correlation between per capita sugar consumption and obesity rate?\n",
    "Use the columns: \"Per_Capita_Sugar_Consumption\" and \"Obesity_Rate\""
   ]
  },
  {
   "cell_type": "code",
   "execution_count": null,
   "id": "dfb76304",
   "metadata": {},
   "outputs": [],
   "source": [
    "df = df.dropna(subset=['Per_Capita_Sugar_Consumption', 'Obesity_Rate'])\n",
    "df['Per_Capita_Sugar_Consumption'].corr(df['Obesity_Rate'])"
   ]
  },
  {
   "cell_type": "markdown",
   "id": "1c85d769",
   "metadata": {},
   "source": [
    "Question 5:\n",
    "Which country had the highest total sugar consumption in 2020?\n",
    "\n",
    "Your task:\n",
    "\n",
    "Filter the dataset for the year 2020\n",
    "Use the column \"Total_Sugar_Consumption\"\n",
    "Group or sort by \"Country\"\n",
    "Identify the top country and show the amount of sugar consumed"
   ]
  },
  {
   "cell_type": "code",
   "execution_count": null,
   "id": "daabe662",
   "metadata": {},
   "outputs": [],
   "source": [
    "df[df['Year'] == 2020].groupby('Country')[\"Total_Sugar_Consumption\"].sum().sort_values(ascending=False).head(1)"
   ]
  },
  {
   "cell_type": "markdown",
   "id": "c642ff7f",
   "metadata": {},
   "source": [
    "Question 6:\n",
    "Which country had the highest per capita sugar consumption in the most recent year in the dataset?"
   ]
  },
  {
   "cell_type": "code",
   "execution_count": null,
   "id": "f919598a",
   "metadata": {},
   "outputs": [],
   "source": [
    "df[df['Year']==df['Year'].max()].groupby('Country')[\"Per_Capita_Sugar_Consumption\"].sum().sort_values(ascending = False).head(1)"
   ]
  },
  {
   "cell_type": "markdown",
   "id": "3feba64f",
   "metadata": {},
   "source": [
    "Question 7:\n",
    "Which 3 countries had the highest average obesity rate over the last 10 years?\n",
    "\n",
    "Your task:\n",
    "\n",
    "Focus on data from the last 10 years (relative to the dataset’s max year)\n",
    "Use \"Obesity_Rate\" column\n",
    "Group by \"Country\" and calculate the average obesity rate\n",
    "Return the top 3 countries, sorted by average rate (descending)"
   ]
  },
  {
   "cell_type": "code",
   "execution_count": null,
   "id": "9dd34ea5",
   "metadata": {},
   "outputs": [],
   "source": [
    "df[df['Year']>=df['Year'].max()-9].groupby('Country')[\"Obesity_Rate\"].agg('mean').sort_values(ascending = False).head(3)"
   ]
  },
  {
   "cell_type": "markdown",
   "id": "57a2ce60",
   "metadata": {},
   "source": [
    "Question 8:\n",
    "How does average sugar consumption per capita differ across regions?\n",
    "\n",
    "Your task:\n",
    "\n",
    "Use the \"Region\" and \"Per_Capita_Sugar_Consumption\" columns\n",
    "Group by \"Region\" and calculate the average per capita sugar consumption\n",
    "Sort the result in descending order to see which regions consume the most sugar on average"
   ]
  },
  {
   "cell_type": "code",
   "execution_count": null,
   "id": "7f675288",
   "metadata": {},
   "outputs": [],
   "source": [
    "df.groupby('Region')[\"Per_Capita_Sugar_Consumption\"].agg('mean').sort_values(ascending=False)"
   ]
  },
  {
   "cell_type": "markdown",
   "id": "009a9656",
   "metadata": {},
   "source": [
    "Question 9:\n",
    "What is the trend of global average per capita sugar consumption over the years?\n",
    "\n",
    "Your task:\n",
    "\n",
    "Use the \"Year\" and \"Per_Capita_Sugar_Consumption\" columns\n",
    "For each year, calculate the average per capita sugar consumption across all countries\n",
    "Sort by year (ascending)\n",
    "This reveals the trend over time — upward, downward, or stable?"
   ]
  },
  {
   "cell_type": "code",
   "execution_count": null,
   "id": "1179a3d6",
   "metadata": {},
   "outputs": [],
   "source": [
    "df.groupby('Year')[\"Per_Capita_Sugar_Consumption\"].agg('mean').sort_index(ascending=False)"
   ]
  },
  {
   "cell_type": "markdown",
   "id": "bd1783f8",
   "metadata": {},
   "source": [
    "Question 10:\n",
    "How does average per capita sugar consumption vary across different climate conditions?\n",
    "\n",
    "Your task:\n",
    "\n",
    "Use \"Climate_Conditions\" as the category\n",
    "Use \"Per_Capita_Sugar_Consumption\" for the metric\n",
    "Group by \"Climate_Conditions\" and calculate the average\n",
    "Sort results from highest to lowest consumption\n",
    "This will reveal whether people in certain climates tend to consume more sugar on average — which could lead to all sorts of fun hypotheses 😎🌡️🍭"
   ]
  },
  {
   "cell_type": "code",
   "execution_count": null,
   "id": "ab9b51e2",
   "metadata": {},
   "outputs": [],
   "source": [
    "df.groupby(\"Climate_Conditions\")[\"Per_Capita_Sugar_Consumption\"].agg('mean').sort_values(ascending=False)"
   ]
  },
  {
   "cell_type": "markdown",
   "id": "4d5443b5",
   "metadata": {},
   "source": [
    "Question 11:\n",
    "What is the average per capita sugar consumption per continent per year?\n",
    "\n",
    "Your task:\n",
    "\n",
    "Group by [\"Continent\", \"Year\"]\n",
    "Use \"Per_Capita_Sugar_Consumption\"\n",
    "Calculate the average per group\n",
    "Sort by Year within each continent (chronological order)\n",
    "This will help analyze trends within continents over time 🌍📆"
   ]
  },
  {
   "cell_type": "code",
   "execution_count": null,
   "id": "245542f9",
   "metadata": {},
   "outputs": [],
   "source": [
    "df.groupby([\"Continent\", \"Year\"])[\"Per_Capita_Sugar_Consumption\"].agg('mean').sort_index(level = 'Year')"
   ]
  },
  {
   "cell_type": "markdown",
   "id": "0c81705a",
   "metadata": {},
   "source": [
    "Question 12:\n",
    "What are the average obesity rate and diabetes prevalence per region per year?\n",
    "\n",
    "Your task:\n",
    "\n",
    "Group by [\"Region\", \"Year\"]\n",
    "Calculate the mean of both:\n",
    "\"Obesity_Rate\"\n",
    "\"Diabetes_Prevalence\"\n",
    "Sort by Year within each region (chronological)\n",
    "This combines multi-indexing + multi-metric aggregation — real interview-level stuff.\n",
    "\n",
    "Show me how it’s done, Commander 📉📊🧠"
   ]
  },
  {
   "cell_type": "code",
   "execution_count": null,
   "id": "7ec4bd86",
   "metadata": {},
   "outputs": [],
   "source": [
    "df.groupby([\"Region\", \"Year\"])[[\"Obesity_Rate\", \"Diabetes_Prevalence\"]].agg('mean').sort_index(level = ['Year', 'Region']).round(2)"
   ]
  },
  {
   "cell_type": "markdown",
   "id": "f8219764",
   "metadata": {},
   "source": [
    "Question 13:\n",
    "Which regions had an average obesity rate above 30% in any year?\n",
    "\n",
    "Your task:\n",
    "\n",
    "Group by [\"Region\", \"Year\"]\n",
    "Calculate the average obesity rate\n",
    "Filter the result to show only rows where the average is greater than 30\n",
    "Sort by Year for readability\n",
    "This simulates a common real-world use case: \"Show me only the risky/high segments.\""
   ]
  },
  {
   "cell_type": "code",
   "execution_count": null,
   "id": "2ea7236a",
   "metadata": {},
   "outputs": [],
   "source": [
    "df.groupby([\"Region\", \"Year\"])['Obesity_Rate'].mean().reset_index().query('Obesity_Rate>30').sort_values(by= ['Year', 'Region'])"
   ]
  },
  {
   "cell_type": "markdown",
   "id": "68ea62c1",
   "metadata": {},
   "source": [
    "Question 14:\n",
    "For each continent, which country had the highest average daily sugar intake in the most recent year?\n",
    "\n",
    "Your task:\n",
    "\n",
    "Use columns: \"Continent\", \"Country\", \"Avg_Daily_Sugar_Intake\", \"Year\"\n",
    "Filter for the most recent year in the dataset\n",
    "Group by [\"Continent\", \"Country\"]\n",
    "Take the average daily sugar intake\n",
    "For each continent, return the top country\n"
   ]
  },
  {
   "cell_type": "code",
   "execution_count": null,
   "id": "54811c2d",
   "metadata": {},
   "outputs": [],
   "source": [
    "df[df['Year'] == df['Year'].max()] \\\n",
    "  .groupby([\"Continent\", \"Country\"])[\"Avg_Daily_Sugar_Intake\"].mean() \\\n",
    "  .reset_index() \\\n",
    "  .sort_values([\"Continent\", \"Avg_Daily_Sugar_Intake\"], ascending=[True, False]) \\\n",
    "  .groupby(\"Continent\") \\\n",
    "  .head(1)"
   ]
  },
  {
   "cell_type": "markdown",
   "id": "144eb85c",
   "metadata": {},
   "source": [
    "Question 15:\n",
    "Which country had the largest increase in average daily sugar intake from 2010 to the most recent year?\n",
    "\n",
    "Your task:\n",
    "\n",
    "Use \"Country\", \"Year\", and \"Avg_Daily_Sugar_Intake\"\n",
    "For each country:\n",
    "Calculate the average intake in 2010\n",
    "Calculate the average intake in the most recent year\n",
    "Find the country with the biggest positive change"
   ]
  },
  {
   "cell_type": "code",
   "execution_count": null,
   "id": "948a07ab",
   "metadata": {},
   "outputs": [],
   "source": [
    "from numpy import inner\n",
    "intake_2010 = df[df['Year'] == 2010].groupby('Country')['Avg_Daily_Sugar_Intake'].mean().rename('intake_2010')\n",
    "intake_max = df[df['Year'] == df['Year'].max()].groupby('Country')['Avg_Daily_Sugar_Intake'].mean().rename('intake_max')\n",
    "merged = pd.merge(intake_2010, intake_max, on='Country', how='inner')\n",
    "merged['positive_change_intake'] = (merged['intake_max'] - merged['intake_2010']) / merged['intake_2010']\n",
    "merged.sort_values('positive_change_intake', ascending=False).head(1)"
   ]
  },
  {
   "cell_type": "markdown",
   "id": "cca96507",
   "metadata": {},
   "source": [
    "Question 16:\n",
    "Which continent had the largest decline in average daily sugar intake from 2015 to the most recent year?\n",
    "\n",
    "Your task:\n",
    "\n",
    "Use columns: \"Continent\", \"Year\", \"Avg_Daily_Sugar_Intake\"\n",
    "Calculate the average daily intake per continent for:\n",
    "2015\n",
    "Most recent year\n",
    "Compute the percentage change\n",
    "Find the continent with the biggest negative change"
   ]
  },
  {
   "cell_type": "code",
   "execution_count": null,
   "id": "72629f1b",
   "metadata": {},
   "outputs": [],
   "source": [
    "pivot = df[df['Year'] \\\n",
    "           .isin([2015, df['Year'] \\\n",
    "                  .max()])] \\\n",
    "                    .pivot_table(index = 'Continent',\n",
    "                                                                  columns = 'Year',\n",
    "                                                                  values = 'Avg_Daily_Sugar_Intake',\n",
    "                                                                  aggfunc = 'mean')\n",
    "pivot['decrease'] = (pivot[df['Year'].max()]-pivot[2015])/pivot[2015]\n",
    "pivot.sort_values(by = 'decrease', ascending=False).head(1)"
   ]
  },
  {
   "cell_type": "markdown",
   "id": "1ef3a6b5",
   "metadata": {},
   "source": [
    "Question 17:\n",
    "Which 3 countries have the highest ratio of sugar imports to total sugar consumption in the most recent year?\n",
    "\n",
    "Your task:\n",
    "\n",
    "Use columns: \"Country\", \"Year\", \"Sugar_Imports\", \"Total_Sugar_Consumption\"\n",
    "Filter for the most recent year\n",
    "Calculate the ratio:\n",
    "Sugar_Imports / Total_Sugar_Consumption for each country\n",
    "Return the top 3 countries, sorted by that ratio (descending)"
   ]
  },
  {
   "cell_type": "code",
   "execution_count": null,
   "id": "086bc10c",
   "metadata": {},
   "outputs": [],
   "source": [
    "filtered_df = df[df['Year']==df['Year'].max()]. \\\n",
    "    groupby('Country')[[\"Sugar_Imports\", \"Total_Sugar_Consumption\"]].\\\n",
    "        agg('sum')\n",
    "filtered_df['ratio'] = filtered_df[\"Sugar_Imports\"] / filtered_df[\"Total_Sugar_Consumption\"]\n",
    "filtered_df.sort_values(by = 'ratio', ascending = False).head(3)"
   ]
  },
  {
   "cell_type": "markdown",
   "id": "26956d89",
   "metadata": {},
   "source": [
    "Question 18:\n",
    "Do countries with government sugar taxes have a lower average daily sugar intake in the most recent year?\n",
    "\n",
    "Your task:\n",
    "\n",
    "Use columns: \"Year\", \"Country\", \"Gov_Tax\", \"Avg_Daily_Sugar_Intake\"\n",
    "Filter for the most recent year\n",
    "Group countries into:\n",
    "With tax (Gov_Tax == 1)\n",
    "Without tax (Gov_Tax == 0)\n",
    "Calculate the average daily sugar intake for each group\n",
    "Compare the results"
   ]
  },
  {
   "cell_type": "code",
   "execution_count": null,
   "id": "18c7e619",
   "metadata": {},
   "outputs": [],
   "source": [
    "group_yes = df[(df['Year']==df['Year'].max())\n",
    "                & (df[\"Gov_Tax\"]==1)]\\\n",
    "    .groupby('Country')[\"Avg_Daily_Sugar_Intake\"].mean()\n",
    "group_no = df[(df['Year']==df['Year'].max())\n",
    "                & (df[\"Gov_Tax\"]==0)]\\\n",
    "    .groupby('Country')[\"Avg_Daily_Sugar_Intake\"].mean()\n",
    "print(group_yes.mean())\n",
    "print(group_no.mean())"
   ]
  },
  {
   "cell_type": "markdown",
   "id": "a5101351",
   "metadata": {},
   "source": [
    "Question 19:\n",
    "Is there a significant difference in obesity rates between countries that run education campaigns and those that don’t (in the most recent year)?\n",
    "\n",
    "Your task:\n",
    "\n",
    "Use columns: \"Year\", \"Education_Campaign\", \"Obesity_Rate\"\n",
    "Filter for the most recent year\n",
    "Group by \"Education_Campaign\" (1 = yes, 0 = no)\n",
    "Calculate the average obesity rate for each group"
   ]
  },
  {
   "cell_type": "code",
   "execution_count": null,
   "id": "51b14d2e",
   "metadata": {},
   "outputs": [],
   "source": [
    "df[df['Year']==df['Year'].max()].groupby('Education_Campaign')[\"Obesity_Rate\"].mean().iloc[1]\\\n",
    "/df[df['Year']==df['Year'].max()].groupby('Education_Campaign')[\"Obesity_Rate\"].mean().iloc[0]"
   ]
  },
  {
   "cell_type": "markdown",
   "id": "b2b4cac5",
   "metadata": {},
   "source": [
    "Question 20:\n",
    "Which 5 countries have the highest combined health risk score based on both obesity and diabetes rates (in the most recent year)?\n",
    "\n",
    "Your task:\n",
    "\n",
    "Use columns: \"Country\", \"Year\", \"Obesity_Rate\", \"Diabetes_Prevalence\"\n",
    "Filter for the most recent year\n",
    "Create a new column:\n",
    "health_risk_score = Obesity_Rate + Diabetes_Prevalence\n",
    "Return the top 5 countries sorted by this score\n",
    "This is how health organizations prioritize high-risk zones 🌍📉"
   ]
  },
  {
   "cell_type": "code",
   "execution_count": null,
   "id": "73d004df",
   "metadata": {},
   "outputs": [],
   "source": [
    "df_ready = df[df['Year']==df['Year'].max()].groupby('Country')[[\"Obesity_Rate\", \"Diabetes_Prevalence\"]].mean()\n",
    "df_ready['health_risk_score'] = df_ready[\"Obesity_Rate\"]+df_ready[\"Diabetes_Prevalence\"]\n",
    "df_ready.sort_values('health_risk_score', ascending = False).head(5)"
   ]
  },
  {
   "cell_type": "markdown",
   "id": "55a401c2",
   "metadata": {},
   "source": [
    "Question 21:\n",
    "Which 3 countries had the largest increase in obesity rate between 2000 and 2023?\n",
    "\n",
    "Your task:\n",
    "\n",
    "Use columns: \"Country\", \"Year\", \"Obesity_Rate\"\n",
    "For each country:\n",
    "Calculate the average obesity rate in 2000\n",
    "Calculate the average obesity rate in 2023\n",
    "Compute the change: 2023 - 2000\n",
    "Return the top 3 countries with the biggest increase"
   ]
  },
  {
   "cell_type": "code",
   "execution_count": null,
   "id": "06f72cc4",
   "metadata": {},
   "outputs": [],
   "source": [
    "df_2000 = df[df['Year']==2000]\\\n",
    "    .groupby('Country')['Obesity_Rate']\\\n",
    "        .mean()\\\n",
    "            .reset_index()\\\n",
    "                .rename(columns={'Obesity_Rate':'Obesity_Rate_2000'})\n",
    "df_2023 = df[df['Year']==2023]\\\n",
    "    .groupby('Country')['Obesity_Rate']\\\n",
    "        .mean()\\\n",
    "            .reset_index()\\\n",
    "                .rename(columns={'Obesity_Rate':'Obesity_Rate_2023'})\n",
    "merged = pd.merge(df_2000, df_2023, on = 'Country', how = 'inner')\n",
    "merged['difference'] = merged['Obesity_Rate_2023'] - merged['Obesity_Rate_2000']\n",
    "merged.sort_values(by = 'difference', ascending=False).head(3)"
   ]
  },
  {
   "cell_type": "markdown",
   "id": "b2ecc5e6",
   "metadata": {},
   "source": [
    "Question 22:\n",
    "Which continent had the highest average sugarcane production yield in the last 5 years?\n",
    "\n",
    "Your task:\n",
    "\n",
    "Use columns: \"Year\", \"Continent\", \"Sugarcane_Production_Yield\"\n",
    "Filter the data for the last 5 years (based on df['Year'].max())\n",
    "Group by \"Continent\"\n",
    "Calculate the average sugarcane yield\n",
    "Return the continent with the highest value\n",
    "We’re mixing agriculture and analytics here 🌱📊"
   ]
  },
  {
   "cell_type": "code",
   "execution_count": null,
   "id": "db5432fb",
   "metadata": {},
   "outputs": [],
   "source": [
    "df[df['Year'] >= df['Year'].max() - 4] \\\n",
    "    .groupby('Continent')[\"Sugarcane_Production_Yield\"] \\\n",
    "    .mean() \\\n",
    "    .sort_values(ascending=False) \\\n",
    "    .head(1)\n"
   ]
  },
  {
   "cell_type": "markdown",
   "id": "97963a81",
   "metadata": {},
   "source": [
    "Question 23:\n",
    "Is there a correlation between urbanization rate and average daily sugar intake in the most recent year?\n",
    "\n",
    "Your task:\n",
    "\n",
    "Use columns: \"Year\", \"Urbanization_Rate\", \"Avg_Daily_Sugar_Intake\"\n",
    "Filter for the most recent year\n",
    "Calculate the correlation coefficient between urbanization and sugar intake\n",
    "Interpret the result:\n",
    "Positive or negative?\n",
    "Strong, moderate, weak?\n",
    "This is the kind of insight that gets attention in global development circles 🌍📈\n",
    "\n",
    "Ready when you are, data commander 🧠📊"
   ]
  },
  {
   "cell_type": "code",
   "execution_count": null,
   "id": "24e494b0",
   "metadata": {},
   "outputs": [],
   "source": [
    "df_corr = df[df['Year'] == df['Year'].max()]\n",
    "corr_val = df_corr['Urbanization_Rate'].corr(df_corr['Avg_Daily_Sugar_Intake'])\n",
    "if corr_val < 0:\n",
    "    print(f\"Negative correlation: {corr_val:.2f}\")\n",
    "elif corr_val < 0.3:\n",
    "    print(f\"Low positive correlation: {corr_val:.2f}\")\n",
    "elif corr_val < 0.5:\n",
    "    print(f\"Medium positive correlation: {corr_val:.2f}\")\n",
    "else:\n",
    "    print(f\"High positive correlation: {corr_val:.2f}\")"
   ]
  },
  {
   "cell_type": "markdown",
   "id": "724a3847",
   "metadata": {},
   "source": [
    "Question 24:\n",
    "Is there a relationship between GDP per capita and obesity rate in the most recent year?\n",
    "\n",
    "Your task:\n",
    "\n",
    "Use columns: \"Year\", \"GDP_Per_Capita\", \"Obesity_Rate\"\n",
    "Filter for the most recent year\n",
    "Calculate the correlation coefficient\n",
    "Interpret the result (negative, weak, strong, etc.)\n",
    "Same flow as before — but now it’s economics meets public health 💰🍔📉"
   ]
  },
  {
   "cell_type": "code",
   "execution_count": null,
   "id": "195ae4e7",
   "metadata": {},
   "outputs": [],
   "source": [
    "filtered_df = df[df['Year']==df['Year'].max()].reset_index()\n",
    "corr_val = filtered_df[\"GDP_Per_Capita\"].corr(filtered_df[\"Obesity_Rate\"])\n",
    "if corr_val < 0:\n",
    "    print(f\"Negative correlation: {corr_val:.2f}\")\n",
    "elif corr_val < 0.3:\n",
    "    print(f\"Low positive correlation: {corr_val:.2f}\")\n",
    "elif corr_val < 0.5:\n",
    "    print(f\"Medium positive correlation: {corr_val:.2f}\")\n",
    "else:\n",
    "    print(f\"High positive correlation: {corr_val:.2f}\")"
   ]
  },
  {
   "cell_type": "markdown",
   "id": "47582162",
   "metadata": {},
   "source": [
    "Question 25:\n",
    "Which country had the highest net sugar exports (exports minus imports) in the most recent year?\n",
    "\n",
    "Your task:\n",
    "\n",
    "Use columns: \"Country\", \"Year\", \"Sugar_Exports\", \"Sugar_Imports\"\n",
    "Filter for the most recent year\n",
    "Calculate:\n",
    "Net_Exports = Sugar_Exports - Sugar_Imports\n",
    "Return the top 1 country by net exports (sorted descending)"
   ]
  },
  {
   "cell_type": "code",
   "execution_count": null,
   "id": "436d5278",
   "metadata": {},
   "outputs": [],
   "source": [
    "recent_df = df[df['Year']==df['Year'].max()]\\\n",
    "    .groupby('Country')[[\"Sugar_Exports\", \"Sugar_Imports\"]]\\\n",
    "    .agg('sum').reset_index()\n",
    "recent_df['net_export'] = recent_df[\"Sugar_Exports\"] - recent_df[\"Sugar_Imports\"]\n",
    "recent_df.sort_values(by = 'net_export', ascending = False).head(1)"
   ]
  },
  {
   "cell_type": "markdown",
   "id": "cbd43861",
   "metadata": {},
   "source": [
    "Question 26:\n",
    "Is there a correlation between processed food consumption and average daily sugar intake in the most recent year?\n",
    "\n",
    "Your task:\n",
    "\n",
    "Use columns: \"Year\", \"Processed_Food_Consumption\", \"Avg_Daily_Sugar_Intake\"\n",
    "Filter for the most recent year\n",
    "Calculate the correlation coefficient\n",
    "Interpret the result:\n",
    "Is it positive or negative?\n",
    "Is it weak, moderate, or strong?\n",
    "We’re now linking sugar with lifestyle shifts — the good stuff 📊🧠"
   ]
  },
  {
   "cell_type": "code",
   "execution_count": null,
   "id": "0c0bb92a",
   "metadata": {},
   "outputs": [],
   "source": [
    "df_filtered = df[df['Year']==df['Year'].max()].reset_index()\n",
    "corr_val = df_filtered[\"Processed_Food_Consumption\"]\\\n",
    "    .corr(df_filtered[\"Avg_Daily_Sugar_Intake\"])\n",
    "if corr_val < 0:\n",
    "    print(f\"Negative correlation: {corr_val:.2f}\")\n",
    "elif corr_val < 0.3:\n",
    "    print(f\"Low positive correlation: {corr_val:.2f}\")\n",
    "elif corr_val < 0.5:\n",
    "    print(f\"Medium positive correlation: {corr_val:.2f}\")\n",
    "else:\n",
    "    print(f\"High positive correlation: {corr_val:.2f}\")"
   ]
  },
  {
   "cell_type": "markdown",
   "id": "dbc65ece",
   "metadata": {},
   "source": [
    "Question 27:\n",
    "Do countries with government sugar subsidies tend to export more sugar than those without subsidies (in the most recent year)?\n",
    "\n",
    "Your task:\n",
    "\n",
    "Use columns: \"Year\", \"Gov_Subsidies\", \"Sugar_Exports\"\n",
    "Filter for the most recent year\n",
    "Group by \"Gov_Subsidies\" (1 = yes, 0 = no)\n",
    "Calculate the average sugar exports for each group\n",
    "Compare and interpret the results\n",
    "This is a classic “policy vs. behavior” question — let’s bring the data to life 💼📦📈"
   ]
  },
  {
   "cell_type": "code",
   "execution_count": null,
   "id": "2ecd34e0",
   "metadata": {},
   "outputs": [],
   "source": [
    "df[df['Year']==df['Year'].max()].groupby(\"Gov_Subsidies\")[\"Sugar_Exports\"] \\\n",
    ".agg('sum')"
   ]
  },
  {
   "cell_type": "markdown",
   "id": "4ead0d54",
   "metadata": {},
   "source": [
    "Question 28:\n",
    "How does average sugarcane production yield differ across climate conditions (in the most recent year)?\n",
    "\n",
    "Your task:\n",
    "\n",
    "Use columns: \"Year\", \"Climate_Conditions\", \"Sugarcane_Production_Yield\"\n",
    "Filter for the most recent year\n",
    "Group by \"Climate_Conditions\"\n",
    "Calculate the average sugarcane production yield per group\n",
    "Sort results descending to see which climate is most productive"
   ]
  },
  {
   "cell_type": "code",
   "execution_count": null,
   "id": "40a24d6d",
   "metadata": {},
   "outputs": [],
   "source": [
    "df[df['Year']==df['Year'].max()]\\\n",
    "    .groupby(\"Climate_Conditions\")[\"Sugarcane_Production_Yield\"]\\\n",
    "    .agg('mean').sort_values(ascending = False)"
   ]
  },
  {
   "cell_type": "markdown",
   "id": "5c2491ca",
   "metadata": {},
   "source": [
    "Question 29:\n",
    "Which 5 countries perform best overall in terms of health and sustainability?\n",
    "We’ll define “best” as:\n",
    "\n",
    "✅ Low obesity rate\n",
    "✅ Low diabetes prevalence\n",
    "✅ High sugarcane production yield\n",
    "Your task:\n",
    "\n",
    "Use data from the most recent year\n",
    "Normalize or rank each of the 3 metrics\n",
    "Create a simple combined score\n",
    "Return the top 5 countries (best combo of low health risk + high sustainability)\n",
    "This is the kind of scoring you’d see in global sustainability indexes 🌍📈\n",
    "\n",
    "Let’s see your strategy!"
   ]
  },
  {
   "cell_type": "code",
   "execution_count": 97,
   "id": "43b4b897",
   "metadata": {},
   "outputs": [
    {
     "data": {
      "text/html": [
       "<div>\n",
       "<style scoped>\n",
       "    .dataframe tbody tr th:only-of-type {\n",
       "        vertical-align: middle;\n",
       "    }\n",
       "\n",
       "    .dataframe tbody tr th {\n",
       "        vertical-align: top;\n",
       "    }\n",
       "\n",
       "    .dataframe thead th {\n",
       "        text-align: right;\n",
       "    }\n",
       "</style>\n",
       "<table border=\"1\" class=\"dataframe\">\n",
       "  <thead>\n",
       "    <tr style=\"text-align: right;\">\n",
       "      <th></th>\n",
       "      <th>Country</th>\n",
       "      <th>Sugarcane_Production_Yield</th>\n",
       "      <th>Obesity_Rate</th>\n",
       "      <th>Diabetes_Prevalence</th>\n",
       "      <th>combo</th>\n",
       "    </tr>\n",
       "  </thead>\n",
       "  <tbody>\n",
       "    <tr>\n",
       "      <th>9</th>\n",
       "      <td>Russia</td>\n",
       "      <td>72.980308</td>\n",
       "      <td>18.758972</td>\n",
       "      <td>9.154530</td>\n",
       "      <td>45.066807</td>\n",
       "    </tr>\n",
       "    <tr>\n",
       "      <th>6</th>\n",
       "      <td>Indonesia</td>\n",
       "      <td>73.139196</td>\n",
       "      <td>19.275284</td>\n",
       "      <td>11.905399</td>\n",
       "      <td>41.958513</td>\n",
       "    </tr>\n",
       "    <tr>\n",
       "      <th>7</th>\n",
       "      <td>Japan</td>\n",
       "      <td>75.356645</td>\n",
       "      <td>25.541016</td>\n",
       "      <td>7.973278</td>\n",
       "      <td>41.842351</td>\n",
       "    </tr>\n",
       "    <tr>\n",
       "      <th>3</th>\n",
       "      <td>France</td>\n",
       "      <td>69.208051</td>\n",
       "      <td>20.656191</td>\n",
       "      <td>9.488460</td>\n",
       "      <td>39.063400</td>\n",
       "    </tr>\n",
       "    <tr>\n",
       "      <th>8</th>\n",
       "      <td>Mexico</td>\n",
       "      <td>72.992558</td>\n",
       "      <td>24.769646</td>\n",
       "      <td>9.408131</td>\n",
       "      <td>38.814781</td>\n",
       "    </tr>\n",
       "  </tbody>\n",
       "</table>\n",
       "</div>"
      ],
      "text/plain": [
       "     Country  Sugarcane_Production_Yield  Obesity_Rate  Diabetes_Prevalence  \\\n",
       "9     Russia                   72.980308     18.758972             9.154530   \n",
       "6  Indonesia                   73.139196     19.275284            11.905399   \n",
       "7      Japan                   75.356645     25.541016             7.973278   \n",
       "3     France                   69.208051     20.656191             9.488460   \n",
       "8     Mexico                   72.992558     24.769646             9.408131   \n",
       "\n",
       "       combo  \n",
       "9  45.066807  \n",
       "6  41.958513  \n",
       "7  41.842351  \n",
       "3  39.063400  \n",
       "8  38.814781  "
      ]
     },
     "execution_count": 97,
     "metadata": {},
     "output_type": "execute_result"
    }
   ],
   "source": [
    "df_filtered = df[df['Year']==df['Year'].max()]\\\n",
    "    .groupby('Country')[['Sugarcane_Production_Yield','Obesity_Rate','Diabetes_Prevalence']]\\\n",
    "    .agg('mean')\\\n",
    "    .reset_index()\n",
    "df_filtered['combo'] = df_filtered['Sugarcane_Production_Yield']\\\n",
    "    - df_filtered['Obesity_Rate']\\\n",
    "    - df_filtered['Diabetes_Prevalence']\n",
    "df_filtered.sort_values(by = 'combo',ascending=False).head(5)"
   ]
  },
  {
   "cell_type": "markdown",
   "id": "23861e20",
   "metadata": {},
   "source": [
    "Question 30:\n",
    "Create a segmentation of countries based on sugar consumption behavior in the most recent year.\n",
    "\n",
    "Your task:\n",
    "\n",
    "Use columns: \"Country\", \"Year\", \"Per_Capita_Sugar_Consumption\", \"Avg_Daily_Sugar_Intake\"\n",
    "Filter for the most recent year\n",
    "Create 3 segments:\n",
    "Low consumption\n",
    "Medium consumption\n",
    "High consumption\n",
    "Base segmentation on Per_Capita_Sugar_Consumption quantiles (e.g., tertiles or qcut)\n",
    "Output:\n",
    "A table showing each segment and the number of countries in it\n",
    "This is the kind of work you'd do for strategic targeting in health campaigns 🧠📈"
   ]
  },
  {
   "cell_type": "code",
   "execution_count": 101,
   "id": "81431cb0",
   "metadata": {},
   "outputs": [
    {
     "data": {
      "text/html": [
       "<div>\n",
       "<style scoped>\n",
       "    .dataframe tbody tr th:only-of-type {\n",
       "        vertical-align: middle;\n",
       "    }\n",
       "\n",
       "    .dataframe tbody tr th {\n",
       "        vertical-align: top;\n",
       "    }\n",
       "\n",
       "    .dataframe thead th {\n",
       "        text-align: right;\n",
       "    }\n",
       "</style>\n",
       "<table border=\"1\" class=\"dataframe\">\n",
       "  <thead>\n",
       "    <tr style=\"text-align: right;\">\n",
       "      <th></th>\n",
       "      <th>Country</th>\n",
       "      <th>Per_Capita_Sugar_Consumption</th>\n",
       "      <th>Avg_Daily_Sugar_Intake</th>\n",
       "      <th>consumption</th>\n",
       "      <th>segments</th>\n",
       "    </tr>\n",
       "  </thead>\n",
       "  <tbody>\n",
       "    <tr>\n",
       "      <th>0</th>\n",
       "      <td>Australia</td>\n",
       "      <td>29.822983</td>\n",
       "      <td>81.714973</td>\n",
       "      <td>111.537956</td>\n",
       "      <td>low</td>\n",
       "    </tr>\n",
       "    <tr>\n",
       "      <th>1</th>\n",
       "      <td>Brazil</td>\n",
       "      <td>34.666901</td>\n",
       "      <td>94.987309</td>\n",
       "      <td>129.654210</td>\n",
       "      <td>low</td>\n",
       "    </tr>\n",
       "    <tr>\n",
       "      <th>2</th>\n",
       "      <td>China</td>\n",
       "      <td>37.567475</td>\n",
       "      <td>102.934882</td>\n",
       "      <td>140.502357</td>\n",
       "      <td>medium</td>\n",
       "    </tr>\n",
       "    <tr>\n",
       "      <th>3</th>\n",
       "      <td>France</td>\n",
       "      <td>30.857029</td>\n",
       "      <td>84.548260</td>\n",
       "      <td>115.405289</td>\n",
       "      <td>low</td>\n",
       "    </tr>\n",
       "    <tr>\n",
       "      <th>4</th>\n",
       "      <td>Germany</td>\n",
       "      <td>30.451941</td>\n",
       "      <td>83.438318</td>\n",
       "      <td>113.890259</td>\n",
       "      <td>low</td>\n",
       "    </tr>\n",
       "    <tr>\n",
       "      <th>5</th>\n",
       "      <td>India</td>\n",
       "      <td>37.096939</td>\n",
       "      <td>101.645612</td>\n",
       "      <td>138.742551</td>\n",
       "      <td>medium</td>\n",
       "    </tr>\n",
       "    <tr>\n",
       "      <th>6</th>\n",
       "      <td>Indonesia</td>\n",
       "      <td>40.220836</td>\n",
       "      <td>110.205090</td>\n",
       "      <td>150.425925</td>\n",
       "      <td>medium</td>\n",
       "    </tr>\n",
       "    <tr>\n",
       "      <th>7</th>\n",
       "      <td>Japan</td>\n",
       "      <td>29.457843</td>\n",
       "      <td>80.714489</td>\n",
       "      <td>110.172331</td>\n",
       "      <td>low</td>\n",
       "    </tr>\n",
       "    <tr>\n",
       "      <th>8</th>\n",
       "      <td>Mexico</td>\n",
       "      <td>36.683678</td>\n",
       "      <td>100.513277</td>\n",
       "      <td>137.196954</td>\n",
       "      <td>medium</td>\n",
       "    </tr>\n",
       "    <tr>\n",
       "      <th>9</th>\n",
       "      <td>Russia</td>\n",
       "      <td>39.761757</td>\n",
       "      <td>108.947214</td>\n",
       "      <td>148.708971</td>\n",
       "      <td>medium</td>\n",
       "    </tr>\n",
       "    <tr>\n",
       "      <th>10</th>\n",
       "      <td>South Africa</td>\n",
       "      <td>39.476323</td>\n",
       "      <td>108.165124</td>\n",
       "      <td>147.641447</td>\n",
       "      <td>medium</td>\n",
       "    </tr>\n",
       "    <tr>\n",
       "      <th>11</th>\n",
       "      <td>USA</td>\n",
       "      <td>32.218720</td>\n",
       "      <td>88.279294</td>\n",
       "      <td>120.498014</td>\n",
       "      <td>low</td>\n",
       "    </tr>\n",
       "  </tbody>\n",
       "</table>\n",
       "</div>"
      ],
      "text/plain": [
       "         Country  Per_Capita_Sugar_Consumption  Avg_Daily_Sugar_Intake  \\\n",
       "0      Australia                     29.822983               81.714973   \n",
       "1         Brazil                     34.666901               94.987309   \n",
       "2          China                     37.567475              102.934882   \n",
       "3         France                     30.857029               84.548260   \n",
       "4        Germany                     30.451941               83.438318   \n",
       "5          India                     37.096939              101.645612   \n",
       "6      Indonesia                     40.220836              110.205090   \n",
       "7          Japan                     29.457843               80.714489   \n",
       "8         Mexico                     36.683678              100.513277   \n",
       "9         Russia                     39.761757              108.947214   \n",
       "10  South Africa                     39.476323              108.165124   \n",
       "11           USA                     32.218720               88.279294   \n",
       "\n",
       "    consumption segments  \n",
       "0    111.537956      low  \n",
       "1    129.654210      low  \n",
       "2    140.502357   medium  \n",
       "3    115.405289      low  \n",
       "4    113.890259      low  \n",
       "5    138.742551   medium  \n",
       "6    150.425925   medium  \n",
       "7    110.172331      low  \n",
       "8    137.196954   medium  \n",
       "9    148.708971   medium  \n",
       "10   147.641447   medium  \n",
       "11   120.498014      low  "
      ]
     },
     "execution_count": 101,
     "metadata": {},
     "output_type": "execute_result"
    }
   ],
   "source": [
    "df_filtered = df[df['Year']==df['Year'].max()]\\\n",
    "    .groupby('Country')[[\"Per_Capita_Sugar_Consumption\",\"Avg_Daily_Sugar_Intake\"]]\\\n",
    "    .agg('mean')\\\n",
    "    .reset_index()\n",
    "df_filtered['consumption'] = df_filtered[\"Per_Capita_Sugar_Consumption\"]\\\n",
    "    + df_filtered[\"Avg_Daily_Sugar_Intake\"]\n",
    "segments = []\n",
    "for i in df_filtered['consumption']:\n",
    "    if i < df_filtered['consumption'].mean():\n",
    "        a ='low'\n",
    "    elif i < (df_filtered['consumption'].mean() + df_filtered['consumption'].mean() / 2):\n",
    "        a ='medium'\n",
    "    else:\n",
    "        a = 'High'\n",
    "    segments.append(a)\n",
    "df_filtered['segments'] = pd.Series(segments) \n",
    "df_filtered"
   ]
  },
  {
   "cell_type": "code",
   "execution_count": null,
   "id": "2fed43cf",
   "metadata": {},
   "outputs": [],
   "source": []
  }
 ],
 "metadata": {
  "kernelspec": {
   "display_name": "Python 3",
   "language": "python",
   "name": "python3"
  },
  "language_info": {
   "codemirror_mode": {
    "name": "ipython",
    "version": 3
   },
   "file_extension": ".py",
   "mimetype": "text/x-python",
   "name": "python",
   "nbconvert_exporter": "python",
   "pygments_lexer": "ipython3",
   "version": "3.12.3"
  }
 },
 "nbformat": 4,
 "nbformat_minor": 5
}
